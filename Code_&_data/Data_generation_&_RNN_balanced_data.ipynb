{
 "cells": [
  {
   "cell_type": "markdown",
   "metadata": {},
   "source": [
    "## Balanced Data Generation\n",
    "\n",
    "In ordrer to train the network correctly the training data must be balance. Balance data will provide enough instances for training each category. \n",
    "\n",
    "1. Generate 1 million instances \n",
    "2. Save it as a unbalanced data set\n",
    "3. Dublicate low probability cards\n",
    "4. Decrease the high occurung hands\n",
    "5. Save balanced data set\n",
    "\n",
    "Save the training and test sets in order to fairly test all models."
   ]
  },
  {
   "cell_type": "markdown",
   "metadata": {},
   "source": [
    "### Raw Data"
   ]
  },
  {
   "cell_type": "code",
   "execution_count": 2,
   "metadata": {},
   "outputs": [],
   "source": [
    "import utils\n",
    "import tensorflow as tf\n",
    "from tensorflow.keras import preprocessing\n",
    "import numpy as np"
   ]
  },
  {
   "cell_type": "markdown",
   "metadata": {},
   "source": [
    "### Save raw hands"
   ]
  },
  {
   "cell_type": "code",
   "execution_count": 104,
   "metadata": {},
   "outputs": [],
   "source": [
    "raw_hands = []\n",
    "raw_hands_label = []\n",
    "for h in range(1000000):\n",
    "    raw_hands.append(training_set[h][4])\n",
    "    raw_hands_label.append(training_set[h][0])"
   ]
  },
  {
   "cell_type": "code",
   "execution_count": 109,
   "metadata": {},
   "outputs": [],
   "source": [
    "np.savetxt('raw_training_set_1mil.dat', raw_hands, fmt='%s', delimiter=',')\n",
    "np.savetxt('raw_label_set_1mil.dat', raw_hands_label, fmt='%i')"
   ]
  },
  {
   "cell_type": "markdown",
   "metadata": {},
   "source": [
    "### Hand distribution in a raw training set\n",
    "\n",
    "```\n",
    "Hand probabilities of the raw training data:\n",
    "High card probability: \t\t 17.4424 %\n",
    "Pair probability: \t\t     43.8591 %\n",
    "Two paris probability: \t\t 23.4389 %\n",
    "Three cards probability: \t 4.8403 %\n",
    "Straight probability: \t\t 4.5965 %\n",
    "Flush probability: \t\t     3.0368 %\n",
    "Full house probability: \t 2.5804 %\n",
    "Four cards probability: \t 0.1787 %\n",
    "Straight flush probability:  0.026899999999999997 %\n",
    "```"
   ]
  },
  {
   "cell_type": "code",
   "execution_count": 44,
   "metadata": {},
   "outputs": [
    {
     "name": "stdout",
     "output_type": "stream",
     "text": [
      "Hand probabilities of the raw training data:\n",
      "High card probability: \t\t 17.4424 %\n",
      "Pair probability: \t\t 43.8591 %\n",
      "Two paris probability: \t\t 23.4389 %\n",
      "Three cards probability: \t 4.8403 %\n",
      "Straight probability: \t\t 4.5965 %\n",
      "Flush probability: \t\t 3.0368 %\n",
      "Full house probability: \t 2.5804 %\n",
      "Four cards probability: \t 0.1787 %\n",
      "Straight flush probability: \t 0.026899999999999997 %\n"
     ]
    }
   ],
   "source": [
    "#The goal is to calculate the precentage of each hand\n",
    "\n",
    "count_straight_flush = 0\n",
    "count_four = 0\n",
    "count_full_house = 0\n",
    "count_flush = 0\n",
    "count_straight = 0\n",
    "count_three = 0\n",
    "count_two_pairs = 0\n",
    "count_pair = 0\n",
    "count_high_card = 0\n",
    "\n",
    "for cr in training_set:\n",
    "    if cr[0] == 8:\n",
    "        count_straight_flush += 1\n",
    "    elif cr[0] == 7:\n",
    "        count_four += 1\n",
    "    elif cr[0] == 6:\n",
    "        count_full_house += 1\n",
    "    elif cr[0] == 5:\n",
    "        count_flush += 1\n",
    "    elif cr[0] == 4:\n",
    "        count_straight += 1\n",
    "    elif cr[0] == 3:\n",
    "        count_three += 1\n",
    "    elif cr[0] == 2:\n",
    "        count_two_pairs += 1\n",
    "    elif cr[0] == 1:\n",
    "        count_pair += 1\n",
    "    elif cr[0] == 0:\n",
    "        count_high_card += 1\n",
    "\n",
    "print('Hand probabilities of the raw training data:')\n",
    "print('High card probability: \\t\\t', count_high_card/1000000*100, '%')\n",
    "print('Pair probability: \\t\\t', count_pair/1000000*100, '%') \n",
    "print('Two paris probability: \\t\\t', count_two_pairs/1000000*100, '%')\n",
    "print('Three cards probability: \\t', count_three/1000000*100, '%')\n",
    "print('Straight probability: \\t\\t', count_straight/1000000*100, '%')\n",
    "print('Flush probability: \\t\\t', count_flush/1000000*100, '%') \n",
    "print('Full house probability: \\t', count_full_house/1000000*100, '%')\n",
    "print('Four cards probability: \\t', count_four/1000000*100, '%')\n",
    "print('Straight flush probability: \\t', count_straight_flush/1000000*100, '%')"
   ]
  },
  {
   "cell_type": "code",
   "execution_count": 46,
   "metadata": {},
   "outputs": [
    {
     "name": "stdout",
     "output_type": "stream",
     "text": [
      "Hand count of the raw training data:\n",
      "High card count: \t 174424\n",
      "Pair count: \t\t 438591\n",
      "Two paris count: \t 234389\n",
      "Three cards count: \t 48403\n",
      "Straight count: \t 45965\n",
      "Flush count: \t\t 30368\n",
      "Full house count: \t 25804\n",
      "Four cards count: \t 1787\n",
      "Straight flush count: \t 269\n"
     ]
    }
   ],
   "source": [
    "print('Hand count of the raw training data:')\n",
    "print('High card count: \\t', count_high_card)\n",
    "print('Pair count: \\t\\t', count_pair) \n",
    "print('Two paris count: \\t', count_two_pairs)\n",
    "print('Three cards count: \\t', count_three)\n",
    "print('Straight count: \\t', count_straight)\n",
    "print('Flush count: \\t\\t', count_flush) \n",
    "print('Full house count: \\t', count_full_house)\n",
    "print('Four cards count: \\t', count_four)\n",
    "print('Straight flush count: \\t', count_straight_flush)"
   ]
  },
  {
   "cell_type": "markdown",
   "metadata": {},
   "source": [
    "### Balanced Training Set\n",
    "\n",
    "```\n",
    "Hand probabilities of the raw training data:\n",
    "High card probability: \t\t 11.276955883862048 %\n",
    "Pair probability: \t\t 11.276955883862048 %\n",
    "Two paris probability: \t\t 11.276955883862048 %\n",
    "Three cards probability: \t 10.91666074632403 %\n",
    "Straight probability: \t\t 10.36680187601562 %\n",
    "Flush probability: \t\t 10.273655151882162 %\n",
    "Full house probability: \t 11.63950639002315 %\n",
    "Four cards probability: \t 11.687996815419504 %\n",
    "Straight flush probability: \t 11.284511368749387 %\n",
    "\n",
    "```"
   ]
  },
  {
   "cell_type": "code",
   "execution_count": 80,
   "metadata": {},
   "outputs": [],
   "source": [
    "balanced_training_set = []\n",
    "\n",
    "for cr in training_set:\n",
    "    if cr[0] == 3 or cr[0] == 4:\n",
    "        for i in range(2):\n",
    "            balanced_training_set.append(cr)\n",
    "    elif cr[0] == 5:\n",
    "        for i in range(3):\n",
    "            balanced_training_set.append(cr)\n",
    "    elif cr[0] == 6:\n",
    "        for i in range(4):\n",
    "            balanced_training_set.append(cr)\n",
    "    elif cr[0] == 7:\n",
    "        for i in range(58):\n",
    "            balanced_training_set.append(cr)\n",
    "    elif cr[0] == 8:\n",
    "        for i in range(372):\n",
    "            balanced_training_set.append(cr)"
   ]
  },
  {
   "cell_type": "code",
   "execution_count": 81,
   "metadata": {},
   "outputs": [],
   "source": [
    "limit0 = 0\n",
    "limit1 = 0\n",
    "limit2 = 0\n",
    "\n",
    "for c in training_set:\n",
    "    if c[0] == 0 and 100000 >= limit0:\n",
    "        limit0 += 1\n",
    "        balanced_training_set.append(c)\n",
    "    elif c[0] == 1 and 100000 >= limit1:\n",
    "        limit1 += 1\n",
    "        balanced_training_set.append(c)\n",
    "    elif c[0] == 2 and 100000 >= limit2:\n",
    "        limit2 += 1\n",
    "        balanced_training_set.append(c)"
   ]
  },
  {
   "cell_type": "code",
   "execution_count": 83,
   "metadata": {},
   "outputs": [
    {
     "name": "stdout",
     "output_type": "stream",
     "text": [
      "Hand probabilities of the raw training data:\n",
      "High card probability: \t\t 11.276955883862048 %\n",
      "Pair probability: \t\t 11.276955883862048 %\n",
      "Two paris probability: \t\t 11.276955883862048 %\n",
      "Three cards probability: \t 10.91666074632403 %\n",
      "Straight probability: \t\t 10.36680187601562 %\n",
      "Flush probability: \t\t 10.273655151882162 %\n",
      "Full house probability: \t 11.63950639002315 %\n",
      "Four cards probability: \t 11.687996815419504 %\n",
      "Straight flush probability: \t 11.284511368749387 %\n"
     ]
    }
   ],
   "source": [
    "count_straight_flush = 0\n",
    "count_four = 0\n",
    "count_full_house = 0\n",
    "count_flush = 0\n",
    "count_straight = 0\n",
    "count_three = 0\n",
    "count_two_pairs = 0\n",
    "count_pair = 0\n",
    "count_high_card = 0\n",
    "\n",
    "for cr in balanced_training_set:\n",
    "    if cr[0] == 8:\n",
    "        count_straight_flush += 1\n",
    "    elif cr[0] == 7:\n",
    "        count_four += 1\n",
    "    elif cr[0] == 6:\n",
    "        count_full_house += 1\n",
    "    elif cr[0] == 5:\n",
    "        count_flush += 1\n",
    "    elif cr[0] == 4:\n",
    "        count_straight += 1\n",
    "    elif cr[0] == 3:\n",
    "        count_three += 1\n",
    "    elif cr[0] == 2:\n",
    "        count_two_pairs += 1\n",
    "    elif cr[0] == 1:\n",
    "        count_pair += 1\n",
    "    elif cr[0] == 0:\n",
    "        count_high_card += 1\n",
    "\n",
    "print('Hand probabilities of the balanced training data:')\n",
    "print('High card probability: \\t\\t', count_high_card/len(balanced_training_set)*100, '%')\n",
    "print('Pair probability: \\t\\t', count_pair/len(balanced_training_set)*100, '%') \n",
    "print('Two paris probability: \\t\\t', count_two_pairs/len(balanced_training_set)*100, '%')\n",
    "print('Three cards probability: \\t', count_three/len(balanced_training_set)*100, '%')\n",
    "print('Straight probability: \\t\\t', count_straight/len(balanced_training_set)*100, '%')\n",
    "print('Flush probability: \\t\\t', count_flush/len(balanced_training_set)*100, '%') \n",
    "print('Full house probability: \\t', count_full_house/len(balanced_training_set)*100, '%')\n",
    "print('Four cards probability: \\t', count_four/len(balanced_training_set)*100, '%')\n",
    "print('Straight flush probability: \\t', count_straight_flush/len(balanced_training_set)*100, '%')"
   ]
  },
  {
   "cell_type": "code",
   "execution_count": 112,
   "metadata": {},
   "outputs": [],
   "source": [
    "balanced_hands = []\n",
    "balanced_hands_label = []\n",
    "for b in range(len(balanced_training_set)):\n",
    "    balanced_hands.append(balanced_training_set[b][4])\n",
    "    balanced_hands_label.append(balanced_training_set[b][0])"
   ]
  },
  {
   "cell_type": "code",
   "execution_count": 114,
   "metadata": {},
   "outputs": [],
   "source": [
    "np.savetxt('balanced_training_set_1mil.dat', balanced_hands, fmt='%s', delimiter=',')\n",
    "np.savetxt('balanced_label_set_1mil.dat', balanced_hands_label, fmt='%i')"
   ]
  },
  {
   "cell_type": "markdown",
   "metadata": {},
   "source": [
    "### Loading data"
   ]
  },
  {
   "cell_type": "code",
   "execution_count": 2,
   "metadata": {},
   "outputs": [],
   "source": [
    "training_set = np.loadtxt(\"balanced_training_set_1mil.dat\", dtype=str, delimiter=',')\n",
    "labels = np.loadtxt(\"balanced_label_set_1mil.dat\", dtype=int, delimiter=',')"
   ]
  },
  {
   "cell_type": "markdown",
   "metadata": {},
   "source": [
    "### Prep balanced data for training a RNN"
   ]
  },
  {
   "cell_type": "code",
   "execution_count": 3,
   "metadata": {},
   "outputs": [],
   "source": [
    "card_str_list = []\n",
    "catgory_list = []\n",
    "for l in range(len(training_set)):\n",
    "    card_str_list.append(list(training_set[l]))\n",
    "    catgory_list.append(labels[l])\n",
    "    \n",
    "depth = 9\n",
    "catgory_list = tf.one_hot(catgory_list, depth)"
   ]
  },
  {
   "cell_type": "code",
   "execution_count": 4,
   "metadata": {},
   "outputs": [],
   "source": [
    "string_of_cards = []\n",
    "\n",
    "for row in card_str_list:\n",
    "    string_of_cards.append(row[0] + ' ' + row[1] + ' ' +row[2] + ' ' +row[3] + ' ' +row[4] + ' ' +row[5] + ' ' +row[6])"
   ]
  },
  {
   "cell_type": "code",
   "execution_count": 5,
   "metadata": {},
   "outputs": [],
   "source": [
    "train_dataset = tf.data.Dataset.from_tensor_slices((string_of_cards, catgory_list))"
   ]
  },
  {
   "cell_type": "code",
   "execution_count": 6,
   "metadata": {},
   "outputs": [
    {
     "data": {
      "text/plain": [
       "(TensorSpec(shape=(), dtype=tf.string, name=None),\n",
       " TensorSpec(shape=(9,), dtype=tf.float32, name=None))"
      ]
     },
     "execution_count": 6,
     "metadata": {},
     "output_type": "execute_result"
    }
   ],
   "source": [
    "train_dataset.element_spec"
   ]
  },
  {
   "cell_type": "markdown",
   "metadata": {},
   "source": [
    "### Test Set Preparation"
   ]
  },
  {
   "cell_type": "code",
   "execution_count": 7,
   "metadata": {},
   "outputs": [],
   "source": [
    "test_set = []\n",
    "for i in range(10000):\n",
    "    New_deck = utils.init_standard_deck()\n",
    "    chosen_cards, remained_cards = utils.get_random_cards(New_deck, 7)\n",
    "    test_set.append(utils.Card_Rank(chosen_cards))"
   ]
  },
  {
   "cell_type": "code",
   "execution_count": 8,
   "metadata": {},
   "outputs": [],
   "source": [
    "card_str_list = []\n",
    "catgory_list = []\n",
    "\n",
    "for row in test_set:\n",
    "    card_str_list.append(row[4])\n",
    "    catgory_list.append(row[0])\n",
    "\n",
    "depth = 9\n",
    "catgory_list = tf.one_hot(catgory_list, depth)\n",
    "\n",
    "string_of_cards = []\n",
    "for row in card_str_list:\n",
    "    string_of_cards.append(row[0] + ' ' + row[1] + ' ' +row[2] + ' ' +row[3] + ' ' +row[4] + ' ' +row[5] + ' ' +row[6])"
   ]
  },
  {
   "cell_type": "code",
   "execution_count": 9,
   "metadata": {},
   "outputs": [],
   "source": [
    "test_dataset = tf.data.Dataset.from_tensor_slices((string_of_cards, catgory_list))"
   ]
  },
  {
   "cell_type": "code",
   "execution_count": 10,
   "metadata": {},
   "outputs": [
    {
     "data": {
      "text/plain": [
       "(TensorSpec(shape=(), dtype=tf.string, name=None),\n",
       " TensorSpec(shape=(9,), dtype=tf.float32, name=None))"
      ]
     },
     "execution_count": 10,
     "metadata": {},
     "output_type": "execute_result"
    }
   ],
   "source": [
    "test_dataset.element_spec"
   ]
  },
  {
   "cell_type": "markdown",
   "metadata": {},
   "source": [
    "### Bath size and shuffel the data"
   ]
  },
  {
   "cell_type": "code",
   "execution_count": 11,
   "metadata": {},
   "outputs": [],
   "source": [
    "BUFFER_SIZE = 10\n",
    "BATCH_SIZE = 100\n",
    "train_dataset = train_dataset.shuffle(BUFFER_SIZE).batch(BATCH_SIZE).prefetch(tf.data.experimental.AUTOTUNE)\n"
   ]
  },
  {
   "cell_type": "code",
   "execution_count": 12,
   "metadata": {},
   "outputs": [
    {
     "name": "stdout",
     "output_type": "stream",
     "text": [
      "text:  [b'SA H2 CK C2 S2 H6 C5' b'C5 SQ C8 H2 S8 S9 H8' b'H5 C7 S4 D5 C4 C3 C5'\n",
      " b'C5 SQ C8 H2 S8 S9 H8' b'SA C7 D5 H9 CA CK DA' b'SA C7 D5 H9 CA CK DA'\n",
      " b'C6 D6 D4 HA H6 DT S5' b'S5 C4 C6 C5 C7 H6 H3' b'H5 C7 S4 D5 C4 C3 C5'\n",
      " b'H5 C7 S4 D5 C4 C3 C5' b'S3 C6 D5 C3 H5 C5 CQ' b'C4 C3 C2 SQ CQ H2 C9'\n",
      " b'H5 C7 S4 D5 C4 C3 C5' b'S3 C6 D5 C3 H5 C5 CQ' b'C6 D6 D4 HA H6 DT S5'\n",
      " b'H8 H5 SJ CA SA DA DJ' b'CT D6 D9 C9 S3 H9 HJ' b'SA H2 CK C2 S2 H6 C5'\n",
      " b'H8 H5 SJ CA SA DA DJ' b'CT D6 D9 C9 S3 H9 HJ' b'S5 C4 C6 C5 C7 H6 H3'\n",
      " b'H8 H5 SJ CA SA DA DJ' b'S6 S2 DT SQ H6 C6 CQ' b'S3 C6 D5 C3 H5 C5 CQ'\n",
      " b'S3 C8 S6 SK D8 S8 SJ' b'S6 S2 DT SQ H6 C6 CQ' b'C4 C3 C2 SQ CQ H2 C9'\n",
      " b'H8 H5 SJ CA SA DA DJ' b'S6 S2 DT SQ H6 C6 CQ' b'S6 CQ DQ SK SQ HQ DA'\n",
      " b'S6 CQ DQ SK SQ HQ DA' b'S6 S2 DT SQ H6 C6 CQ' b'S6 CQ DQ SK SQ HQ DA'\n",
      " b'S6 CQ DQ SK SQ HQ DA' b'C4 C3 C2 SQ CQ H2 C9' b'S6 CQ DQ SK SQ HQ DA'\n",
      " b'S6 CQ DQ SK SQ HQ DA' b'H4 D2 C7 H5 SA S4 C4' b'S6 CQ DQ SK SQ HQ DA'\n",
      " b'S6 CQ DQ SK SQ HQ DA' b'S3 C8 S6 SK D8 S8 SJ' b'H4 D2 C7 H5 SA S4 C4'\n",
      " b'S6 CQ DQ SK SQ HQ DA' b'S6 CQ DQ SK SQ HQ DA' b'S6 CQ DQ SK SQ HQ DA'\n",
      " b'S6 CQ DQ SK SQ HQ DA' b'S6 CQ DQ SK SQ HQ DA' b'S6 CQ DQ SK SQ HQ DA'\n",
      " b'S6 CQ DQ SK SQ HQ DA' b'S6 CQ DQ SK SQ HQ DA' b'S3 C8 S6 SK D8 S8 SJ'\n",
      " b'S6 CQ DQ SK SQ HQ DA' b'S6 CQ DQ SK SQ HQ DA' b'S6 CQ DQ SK SQ HQ DA'\n",
      " b'S6 CQ DQ SK SQ HQ DA' b'S6 CQ DQ SK SQ HQ DA' b'S6 CQ DQ SK SQ HQ DA'\n",
      " b'S6 CQ DQ SK SQ HQ DA' b'S6 CQ DQ SK SQ HQ DA' b'S6 CQ DQ SK SQ HQ DA'\n",
      " b'S6 CQ DQ SK SQ HQ DA' b'S3 C6 D5 C3 H5 C5 CQ' b'S6 CQ DQ SK SQ HQ DA'\n",
      " b'S6 CQ DQ SK SQ HQ DA' b'S6 CQ DQ SK SQ HQ DA' b'S6 CQ DQ SK SQ HQ DA'\n",
      " b'S6 CQ DQ SK SQ HQ DA' b'S6 CQ DQ SK SQ HQ DA' b'S6 CQ DQ SK SQ HQ DA'\n",
      " b'S6 CQ DQ SK SQ HQ DA' b'S6 CQ DQ SK SQ HQ DA' b'S6 CQ DQ SK SQ HQ DA'\n",
      " b'S6 CQ DQ SK SQ HQ DA' b'S6 CQ DQ SK SQ HQ DA' b'S6 CQ DQ SK SQ HQ DA'\n",
      " b'S6 CQ DQ SK SQ HQ DA' b'S6 CQ DQ SK SQ HQ DA' b'S6 CQ DQ SK SQ HQ DA'\n",
      " b'S6 CQ DQ SK SQ HQ DA' b'S6 CQ DQ SK SQ HQ DA' b'S6 CQ DQ SK SQ HQ DA'\n",
      " b'S6 CQ DQ SK SQ HQ DA' b'S6 CQ DQ SK SQ HQ DA' b'S6 CQ DQ SK SQ HQ DA'\n",
      " b'S6 CQ DQ SK SQ HQ DA' b'S6 CQ DQ SK SQ HQ DA' b'S6 CQ DQ SK SQ HQ DA'\n",
      " b'S6 CQ DQ SK SQ HQ DA' b'S6 CQ DQ SK SQ HQ DA' b'S6 CQ DQ SK SQ HQ DA'\n",
      " b'S5 H7 ST S2 H8 SQ S3' b'S5 H7 ST S2 H8 SQ S3' b'S6 CQ DQ SK SQ HQ DA'\n",
      " b'S6 CQ DQ SK SQ HQ DA' b'H4 S2 H6 ST H9 D5 D3' b'D8 H8 C8 H6 SJ DA SA'\n",
      " b'D3 S4 S6 S5 CQ D2 S3' b'S5 H7 ST S2 H8 SQ S3' b'S6 CQ DQ SK SQ HQ DA'\n",
      " b'C2 S8 C5 CA DQ D3 D4']\n",
      "type:  <class 'numpy.ndarray'>\n",
      "label:  [[0. 0. 0. 1. 0. 0. 0. 0. 0.]\n",
      " [0. 0. 0. 1. 0. 0. 0. 0. 0.]\n",
      " [0. 0. 0. 0. 0. 0. 1. 0. 0.]\n",
      " [0. 0. 0. 1. 0. 0. 0. 0. 0.]\n",
      " [0. 0. 0. 1. 0. 0. 0. 0. 0.]\n",
      " [0. 0. 0. 1. 0. 0. 0. 0. 0.]\n",
      " [0. 0. 0. 1. 0. 0. 0. 0. 0.]\n",
      " [0. 0. 0. 0. 1. 0. 0. 0. 0.]\n",
      " [0. 0. 0. 0. 0. 0. 1. 0. 0.]\n",
      " [0. 0. 0. 0. 0. 0. 1. 0. 0.]\n",
      " [0. 0. 0. 0. 0. 0. 1. 0. 0.]\n",
      " [0. 0. 0. 0. 0. 1. 0. 0. 0.]\n",
      " [0. 0. 0. 0. 0. 0. 1. 0. 0.]\n",
      " [0. 0. 0. 0. 0. 0. 1. 0. 0.]\n",
      " [0. 0. 0. 1. 0. 0. 0. 0. 0.]\n",
      " [0. 0. 0. 0. 0. 0. 1. 0. 0.]\n",
      " [0. 0. 0. 1. 0. 0. 0. 0. 0.]\n",
      " [0. 0. 0. 1. 0. 0. 0. 0. 0.]\n",
      " [0. 0. 0. 0. 0. 0. 1. 0. 0.]\n",
      " [0. 0. 0. 1. 0. 0. 0. 0. 0.]\n",
      " [0. 0. 0. 0. 1. 0. 0. 0. 0.]\n",
      " [0. 0. 0. 0. 0. 0. 1. 0. 0.]\n",
      " [0. 0. 0. 0. 0. 0. 1. 0. 0.]\n",
      " [0. 0. 0. 0. 0. 0. 1. 0. 0.]\n",
      " [0. 0. 0. 0. 0. 1. 0. 0. 0.]\n",
      " [0. 0. 0. 0. 0. 0. 1. 0. 0.]\n",
      " [0. 0. 0. 0. 0. 1. 0. 0. 0.]\n",
      " [0. 0. 0. 0. 0. 0. 1. 0. 0.]\n",
      " [0. 0. 0. 0. 0. 0. 1. 0. 0.]\n",
      " [0. 0. 0. 0. 0. 0. 0. 1. 0.]\n",
      " [0. 0. 0. 0. 0. 0. 0. 1. 0.]\n",
      " [0. 0. 0. 0. 0. 0. 1. 0. 0.]\n",
      " [0. 0. 0. 0. 0. 0. 0. 1. 0.]\n",
      " [0. 0. 0. 0. 0. 0. 0. 1. 0.]\n",
      " [0. 0. 0. 0. 0. 1. 0. 0. 0.]\n",
      " [0. 0. 0. 0. 0. 0. 0. 1. 0.]\n",
      " [0. 0. 0. 0. 0. 0. 0. 1. 0.]\n",
      " [0. 0. 0. 1. 0. 0. 0. 0. 0.]\n",
      " [0. 0. 0. 0. 0. 0. 0. 1. 0.]\n",
      " [0. 0. 0. 0. 0. 0. 0. 1. 0.]\n",
      " [0. 0. 0. 0. 0. 1. 0. 0. 0.]\n",
      " [0. 0. 0. 1. 0. 0. 0. 0. 0.]\n",
      " [0. 0. 0. 0. 0. 0. 0. 1. 0.]\n",
      " [0. 0. 0. 0. 0. 0. 0. 1. 0.]\n",
      " [0. 0. 0. 0. 0. 0. 0. 1. 0.]\n",
      " [0. 0. 0. 0. 0. 0. 0. 1. 0.]\n",
      " [0. 0. 0. 0. 0. 0. 0. 1. 0.]\n",
      " [0. 0. 0. 0. 0. 0. 0. 1. 0.]\n",
      " [0. 0. 0. 0. 0. 0. 0. 1. 0.]\n",
      " [0. 0. 0. 0. 0. 0. 0. 1. 0.]\n",
      " [0. 0. 0. 0. 0. 1. 0. 0. 0.]\n",
      " [0. 0. 0. 0. 0. 0. 0. 1. 0.]\n",
      " [0. 0. 0. 0. 0. 0. 0. 1. 0.]\n",
      " [0. 0. 0. 0. 0. 0. 0. 1. 0.]\n",
      " [0. 0. 0. 0. 0. 0. 0. 1. 0.]\n",
      " [0. 0. 0. 0. 0. 0. 0. 1. 0.]\n",
      " [0. 0. 0. 0. 0. 0. 0. 1. 0.]\n",
      " [0. 0. 0. 0. 0. 0. 0. 1. 0.]\n",
      " [0. 0. 0. 0. 0. 0. 0. 1. 0.]\n",
      " [0. 0. 0. 0. 0. 0. 0. 1. 0.]\n",
      " [0. 0. 0. 0. 0. 0. 0. 1. 0.]\n",
      " [0. 0. 0. 0. 0. 0. 1. 0. 0.]\n",
      " [0. 0. 0. 0. 0. 0. 0. 1. 0.]\n",
      " [0. 0. 0. 0. 0. 0. 0. 1. 0.]\n",
      " [0. 0. 0. 0. 0. 0. 0. 1. 0.]\n",
      " [0. 0. 0. 0. 0. 0. 0. 1. 0.]\n",
      " [0. 0. 0. 0. 0. 0. 0. 1. 0.]\n",
      " [0. 0. 0. 0. 0. 0. 0. 1. 0.]\n",
      " [0. 0. 0. 0. 0. 0. 0. 1. 0.]\n",
      " [0. 0. 0. 0. 0. 0. 0. 1. 0.]\n",
      " [0. 0. 0. 0. 0. 0. 0. 1. 0.]\n",
      " [0. 0. 0. 0. 0. 0. 0. 1. 0.]\n",
      " [0. 0. 0. 0. 0. 0. 0. 1. 0.]\n",
      " [0. 0. 0. 0. 0. 0. 0. 1. 0.]\n",
      " [0. 0. 0. 0. 0. 0. 0. 1. 0.]\n",
      " [0. 0. 0. 0. 0. 0. 0. 1. 0.]\n",
      " [0. 0. 0. 0. 0. 0. 0. 1. 0.]\n",
      " [0. 0. 0. 0. 0. 0. 0. 1. 0.]\n",
      " [0. 0. 0. 0. 0. 0. 0. 1. 0.]\n",
      " [0. 0. 0. 0. 0. 0. 0. 1. 0.]\n",
      " [0. 0. 0. 0. 0. 0. 0. 1. 0.]\n",
      " [0. 0. 0. 0. 0. 0. 0. 1. 0.]\n",
      " [0. 0. 0. 0. 0. 0. 0. 1. 0.]\n",
      " [0. 0. 0. 0. 0. 0. 0. 1. 0.]\n",
      " [0. 0. 0. 0. 0. 0. 0. 1. 0.]\n",
      " [0. 0. 0. 0. 0. 0. 0. 1. 0.]\n",
      " [0. 0. 0. 0. 0. 0. 0. 1. 0.]\n",
      " [0. 0. 0. 0. 0. 0. 0. 1. 0.]\n",
      " [0. 0. 0. 0. 0. 0. 0. 1. 0.]\n",
      " [0. 0. 0. 0. 0. 0. 0. 1. 0.]\n",
      " [0. 0. 0. 0. 0. 1. 0. 0. 0.]\n",
      " [0. 0. 0. 0. 0. 1. 0. 0. 0.]\n",
      " [0. 0. 0. 0. 0. 0. 0. 1. 0.]\n",
      " [0. 0. 0. 0. 0. 0. 0. 1. 0.]\n",
      " [0. 0. 0. 0. 1. 0. 0. 0. 0.]\n",
      " [0. 0. 0. 0. 0. 0. 1. 0. 0.]\n",
      " [0. 0. 0. 0. 1. 0. 0. 0. 0.]\n",
      " [0. 0. 0. 0. 0. 1. 0. 0. 0.]\n",
      " [0. 0. 0. 0. 0. 0. 0. 1. 0.]\n",
      " [0. 0. 0. 0. 1. 0. 0. 0. 0.]]\n",
      "type:  <class 'numpy.ndarray'>\n"
     ]
    }
   ],
   "source": [
    "for example, label in train_dataset.take(1):\n",
    "    print('text: ', example.numpy())\n",
    "    print('type: ', type(example.numpy()))\n",
    "    print('label: ', label.numpy())\n",
    "    print('type: ', type(label.numpy()))"
   ]
  },
  {
   "cell_type": "code",
   "execution_count": 13,
   "metadata": {},
   "outputs": [],
   "source": [
    "BUFFER_SIZE = 10\n",
    "BATCH_SIZE = 100\n",
    "test_dataset = test_dataset.shuffle(BUFFER_SIZE).batch(BATCH_SIZE).prefetch(tf.data.experimental.AUTOTUNE)\n"
   ]
  },
  {
   "cell_type": "code",
   "execution_count": 14,
   "metadata": {},
   "outputs": [
    {
     "name": "stdout",
     "output_type": "stream",
     "text": [
      "text:  [b'D8 C3 S8 S3 H2 D7 CT' b'C8 H7 S2 S8 CJ HA S9' b'CQ DK SQ HT D8 D6 C9'\n",
      " b'C3 CJ DQ SQ C9 CA D7' b'C9 DQ S5 DK D8 CT H5' b'C3 S3 H5 DA C6 C9 ST'\n",
      " b'D9 H9 C4 DK D8 C5 H4' b'DA C4 C7 C5 H9 C6 SA' b'S4 H4 H5 S5 CT HT H2'\n",
      " b'D2 HK H2 C9 D8 HT CK' b'C6 SQ CA HT S2 SJ C3' b'DK C5 H3 S6 DT CQ CK'\n",
      " b'HJ C7 H4 S2 D4 S3 H6' b'SK CK D9 C4 H4 SQ S5' b'HT HA H9 S9 S6 S8 C8'\n",
      " b'H3 D9 S9 C2 S7 C8 HQ' b'S3 HJ H2 SA C7 DA H5' b'DK HT H3 CT C4 H8 HJ'\n",
      " b'SJ HT H7 DK S7 H5 D8' b'D3 H6 H7 D4 SJ DQ DK' b'D9 S9 SQ H8 C6 H7 HK'\n",
      " b'CJ C3 C6 D3 H9 D2 H6' b'H7 C7 CA HJ H2 HT S6' b'D4 D6 HT C4 HJ HA H7'\n",
      " b'D5 C5 CA HK C3 D3 C9' b'H2 HQ HK D6 D9 H3 H8' b'S4 SQ C6 DK HT C7 S6'\n",
      " b'CQ HA S3 D5 HJ D3 C6' b'D6 H9 ST H3 HQ C6 C8' b'H4 D8 DT S6 S7 C6 C8'\n",
      " b'CT D2 C3 SQ H3 CK C4' b'SK D5 S8 DA D4 SA H2' b'DK H9 CA ST H4 D5 DA'\n",
      " b'S8 H5 D6 CQ S3 C9 C7' b'HT C5 CJ D7 C6 C4 SJ' b'H8 S5 H6 C4 H7 ST DQ'\n",
      " b'CQ D6 C4 D5 CK D9 D4' b'D8 C7 H3 D4 H4 CT S9' b'D6 SQ S4 C8 ST C4 D3'\n",
      " b'DT CQ DJ S2 C6 C9 H2' b'CK H7 C6 SQ D5 H4 HA' b'C5 D6 HJ D9 DK C2 HK'\n",
      " b'CK CQ CA HT H8 HQ S7' b'S2 DT D4 C2 HA S6 S7' b'C7 S3 CA D8 S8 ST S4'\n",
      " b'S7 C8 DQ HA C7 ST S4' b'D9 C5 C9 D2 S8 C7 S9' b'C3 DT CJ HK HJ H4 S3'\n",
      " b'D6 HA S5 CK H3 H9 S8' b'HA H2 C2 DK H3 S6 CA' b'HQ CJ C9 HA H9 D2 SJ'\n",
      " b'DJ C2 H2 HQ HT H4 H7' b'SQ C8 C6 S4 S2 HA H7' b'CT S4 C9 C8 H7 DA H9'\n",
      " b'H3 H4 D4 SQ H2 S3 HT' b'CJ D5 C3 SA HK S6 DA' b'S5 HA SQ HK H8 DA DK'\n",
      " b'DT D2 S5 D9 D6 SA S2' b'HJ C8 C6 S5 C4 SA SQ' b'CK HQ DJ D2 S2 H6 CA'\n",
      " b'D6 C8 C6 HK C9 H3 S8' b'C8 S5 S7 DK C9 SK H4' b'C9 H4 SJ C5 CJ ST C7'\n",
      " b'S6 H2 SQ HJ CT D3 D7' b'H2 H3 S9 D2 D3 D9 DQ' b'D2 HT D8 CT S6 SJ H6'\n",
      " b'HK DJ S2 CA D6 H9 S8' b'S3 C8 H4 DT CT S8 H3' b'H2 SK CK D3 C8 DA D4'\n",
      " b'D3 ST S4 S2 C4 D9 C2' b'S9 HJ C9 D8 S3 C6 C8' b'S3 S9 C8 C2 C3 C6 DQ'\n",
      " b'HK DJ H3 S7 D4 S5 HA' b'DQ HK DK C5 D7 SQ CT' b'S4 CK D2 D6 C9 CT DT'\n",
      " b'C9 S8 HQ S7 CT CQ D4' b'H7 HJ S7 H9 ST C9 H3' b'SQ S5 C7 HK D3 HA D2'\n",
      " b'C2 HA H8 C5 C7 DA S4' b'CQ D5 DJ C9 SA DQ C8' b'D6 CK H6 DK CQ D3 S8'\n",
      " b'DA C9 CT C4 SK DJ H7' b'H6 H5 HJ H7 D3 DJ DK' b'ST S7 H5 D8 DT CT C3'\n",
      " b'C3 S9 C5 H3 DQ D7 H7' b'C5 CK H3 SK C2 D6 C6' b'S8 C4 CK S6 CT C2 SK'\n",
      " b'S5 H2 HK D2 H6 S3 S9' b'S9 D5 C9 D6 D9 D7 C8' b'C3 CA D7 D5 D8 C9 S9'\n",
      " b'S9 SJ SK D4 S4 C5 H4' b'C7 C2 S3 C4 S5 H9 SQ' b'H3 DK H9 DQ H2 D2 CK'\n",
      " b'D8 S9 S2 ST C7 D9 C3' b'H4 S7 S6 HA C7 H6 DQ' b'ST CQ DJ DT SJ C3 DK'\n",
      " b'CQ DK H2 S7 CA D8 D5' b'D7 D5 D6 H4 SK DK CJ' b'C8 DK HQ H5 H9 CQ H2'\n",
      " b'S4 S2 ST C7 DJ C5 DA']\n",
      "type:  <class 'numpy.ndarray'>\n",
      "label:  [[0. 0. 1. 0. 0. 0. 0. 0. 0.]\n",
      " [0. 1. 0. 0. 0. 0. 0. 0. 0.]\n",
      " [0. 1. 0. 0. 0. 0. 0. 0. 0.]\n",
      " [0. 1. 0. 0. 0. 0. 0. 0. 0.]\n",
      " [0. 1. 0. 0. 0. 0. 0. 0. 0.]\n",
      " [0. 1. 0. 0. 0. 0. 0. 0. 0.]\n",
      " [0. 0. 1. 0. 0. 0. 0. 0. 0.]\n",
      " [0. 1. 0. 0. 0. 0. 0. 0. 0.]\n",
      " [0. 0. 1. 0. 0. 0. 0. 0. 0.]\n",
      " [0. 0. 1. 0. 0. 0. 0. 0. 0.]\n",
      " [1. 0. 0. 0. 0. 0. 0. 0. 0.]\n",
      " [0. 1. 0. 0. 0. 0. 0. 0. 0.]\n",
      " [0. 1. 0. 0. 0. 0. 0. 0. 0.]\n",
      " [0. 0. 1. 0. 0. 0. 0. 0. 0.]\n",
      " [0. 0. 1. 0. 0. 0. 0. 0. 0.]\n",
      " [0. 1. 0. 0. 0. 0. 0. 0. 0.]\n",
      " [0. 1. 0. 0. 0. 0. 0. 0. 0.]\n",
      " [0. 1. 0. 0. 0. 0. 0. 0. 0.]\n",
      " [0. 1. 0. 0. 0. 0. 0. 0. 0.]\n",
      " [1. 0. 0. 0. 0. 0. 0. 0. 0.]\n",
      " [0. 1. 0. 0. 0. 0. 0. 0. 0.]\n",
      " [0. 0. 1. 0. 0. 0. 0. 0. 0.]\n",
      " [0. 1. 0. 0. 0. 0. 0. 0. 0.]\n",
      " [0. 1. 0. 0. 0. 0. 0. 0. 0.]\n",
      " [0. 0. 1. 0. 0. 0. 0. 0. 0.]\n",
      " [0. 0. 0. 0. 0. 1. 0. 0. 0.]\n",
      " [0. 1. 0. 0. 0. 0. 0. 0. 0.]\n",
      " [0. 1. 0. 0. 0. 0. 0. 0. 0.]\n",
      " [0. 1. 0. 0. 0. 0. 0. 0. 0.]\n",
      " [0. 0. 1. 0. 0. 0. 0. 0. 0.]\n",
      " [0. 1. 0. 0. 0. 0. 0. 0. 0.]\n",
      " [0. 1. 0. 0. 0. 0. 0. 0. 0.]\n",
      " [0. 1. 0. 0. 0. 0. 0. 0. 0.]\n",
      " [0. 0. 0. 0. 1. 0. 0. 0. 0.]\n",
      " [0. 1. 0. 0. 0. 0. 0. 0. 0.]\n",
      " [0. 0. 0. 0. 1. 0. 0. 0. 0.]\n",
      " [0. 1. 0. 0. 0. 0. 0. 0. 0.]\n",
      " [0. 1. 0. 0. 0. 0. 0. 0. 0.]\n",
      " [0. 1. 0. 0. 0. 0. 0. 0. 0.]\n",
      " [0. 1. 0. 0. 0. 0. 0. 0. 0.]\n",
      " [1. 0. 0. 0. 0. 0. 0. 0. 0.]\n",
      " [0. 1. 0. 0. 0. 0. 0. 0. 0.]\n",
      " [0. 1. 0. 0. 0. 0. 0. 0. 0.]\n",
      " [0. 1. 0. 0. 0. 0. 0. 0. 0.]\n",
      " [0. 1. 0. 0. 0. 0. 0. 0. 0.]\n",
      " [0. 1. 0. 0. 0. 0. 0. 0. 0.]\n",
      " [0. 0. 0. 1. 0. 0. 0. 0. 0.]\n",
      " [0. 0. 1. 0. 0. 0. 0. 0. 0.]\n",
      " [1. 0. 0. 0. 0. 0. 0. 0. 0.]\n",
      " [0. 0. 1. 0. 0. 0. 0. 0. 0.]\n",
      " [0. 0. 1. 0. 0. 0. 0. 0. 0.]\n",
      " [0. 0. 0. 0. 0. 1. 0. 0. 0.]\n",
      " [1. 0. 0. 0. 0. 0. 0. 0. 0.]\n",
      " [0. 1. 0. 0. 0. 0. 0. 0. 0.]\n",
      " [0. 0. 1. 0. 0. 0. 0. 0. 0.]\n",
      " [0. 1. 0. 0. 0. 0. 0. 0. 0.]\n",
      " [0. 0. 1. 0. 0. 0. 0. 0. 0.]\n",
      " [0. 1. 0. 0. 0. 0. 0. 0. 0.]\n",
      " [1. 0. 0. 0. 0. 0. 0. 0. 0.]\n",
      " [0. 1. 0. 0. 0. 0. 0. 0. 0.]\n",
      " [0. 0. 1. 0. 0. 0. 0. 0. 0.]\n",
      " [0. 1. 0. 0. 0. 0. 0. 0. 0.]\n",
      " [0. 1. 0. 0. 0. 0. 0. 0. 0.]\n",
      " [1. 0. 0. 0. 0. 0. 0. 0. 0.]\n",
      " [0. 0. 1. 0. 0. 0. 0. 0. 0.]\n",
      " [0. 0. 1. 0. 0. 0. 0. 0. 0.]\n",
      " [1. 0. 0. 0. 0. 0. 0. 0. 0.]\n",
      " [0. 0. 1. 0. 0. 0. 0. 0. 0.]\n",
      " [0. 1. 0. 0. 0. 0. 0. 0. 0.]\n",
      " [0. 0. 1. 0. 0. 0. 0. 0. 0.]\n",
      " [0. 0. 1. 0. 0. 0. 0. 0. 0.]\n",
      " [0. 1. 0. 0. 0. 0. 0. 0. 0.]\n",
      " [1. 0. 0. 0. 0. 0. 0. 0. 0.]\n",
      " [0. 0. 1. 0. 0. 0. 0. 0. 0.]\n",
      " [0. 1. 0. 0. 0. 0. 0. 0. 0.]\n",
      " [0. 1. 0. 0. 0. 0. 0. 0. 0.]\n",
      " [0. 0. 1. 0. 0. 0. 0. 0. 0.]\n",
      " [1. 0. 0. 0. 0. 0. 0. 0. 0.]\n",
      " [0. 1. 0. 0. 0. 0. 0. 0. 0.]\n",
      " [0. 1. 0. 0. 0. 0. 0. 0. 0.]\n",
      " [0. 0. 1. 0. 0. 0. 0. 0. 0.]\n",
      " [1. 0. 0. 0. 0. 0. 0. 0. 0.]\n",
      " [0. 1. 0. 0. 0. 0. 0. 0. 0.]\n",
      " [0. 0. 0. 1. 0. 0. 0. 0. 0.]\n",
      " [0. 0. 1. 0. 0. 0. 0. 0. 0.]\n",
      " [0. 0. 1. 0. 0. 0. 0. 0. 0.]\n",
      " [0. 1. 0. 0. 0. 0. 0. 0. 0.]\n",
      " [0. 1. 0. 0. 0. 0. 0. 0. 0.]\n",
      " [0. 0. 0. 0. 1. 0. 0. 0. 0.]\n",
      " [0. 1. 0. 0. 0. 0. 0. 0. 0.]\n",
      " [0. 0. 0. 1. 0. 0. 0. 0. 0.]\n",
      " [1. 0. 0. 0. 0. 0. 0. 0. 0.]\n",
      " [0. 0. 1. 0. 0. 0. 0. 0. 0.]\n",
      " [0. 1. 0. 0. 0. 0. 0. 0. 0.]\n",
      " [0. 0. 1. 0. 0. 0. 0. 0. 0.]\n",
      " [0. 0. 1. 0. 0. 0. 0. 0. 0.]\n",
      " [1. 0. 0. 0. 0. 0. 0. 0. 0.]\n",
      " [0. 1. 0. 0. 0. 0. 0. 0. 0.]\n",
      " [0. 1. 0. 0. 0. 0. 0. 0. 0.]\n",
      " [1. 0. 0. 0. 0. 0. 0. 0. 0.]]\n",
      "type:  <class 'numpy.ndarray'>\n"
     ]
    }
   ],
   "source": [
    "for example, label in test_dataset.take(1):\n",
    "    print('text: ', example.numpy())\n",
    "    print('type: ', type(example.numpy()))\n",
    "    print('label: ', label.numpy())\n",
    "    print('type: ', type(label.numpy()))"
   ]
  },
  {
   "cell_type": "markdown",
   "metadata": {},
   "source": [
    "### Vectorization of the data"
   ]
  },
  {
   "cell_type": "code",
   "execution_count": 15,
   "metadata": {},
   "outputs": [],
   "source": [
    "VOCAB_SIZE = 54\n",
    "encoder = tf.keras.layers.experimental.preprocessing.TextVectorization(max_tokens=VOCAB_SIZE)\n",
    "encoder.adapt(train_dataset.map(lambda text, label: text))"
   ]
  },
  {
   "cell_type": "code",
   "execution_count": 16,
   "metadata": {},
   "outputs": [
    {
     "data": {
      "text/plain": [
       "array(['', '[UNK]', 'd7', 'ht', 'h7', 'h6', 'h5', 'c8', 'c5', 'c7', 'h8',\n",
       "       'd9', 'd8', 'c6', 'h9', 'ct', 'd6', 'cj', 's6', 'd5', 'c9', 'hj',\n",
       "       'st', 'dt', 'h4', 'c4', 's7', 's5', 's8', 'dj', 's9', 'd4', 'cq',\n",
       "       's4', 'h3', 'sj', 'd3', 'hq', 'hk', 'c3', 'sq', 'da', 'dq', 'c2',\n",
       "       'dk', 'sk', 's3', 'h2', 'ha', 'ca', 'ck', 'sa', 's2', 'd2'],\n",
       "      dtype='<U5')"
      ]
     },
     "execution_count": 16,
     "metadata": {},
     "output_type": "execute_result"
    }
   ],
   "source": [
    "import numpy as np\n",
    "vocab = np.array(encoder.get_vocabulary())\n",
    "vocab"
   ]
  },
  {
   "cell_type": "code",
   "execution_count": 17,
   "metadata": {},
   "outputs": [
    {
     "data": {
      "text/plain": [
       "array([[12, 39, 28, 46, 47,  2, 15],\n",
       "       [ 7,  4, 52, 28, 17, 48, 30],\n",
       "       [32, 44, 40,  3, 12, 16, 20],\n",
       "       [39, 17, 42, 40, 20, 49,  2],\n",
       "       [20, 42, 27, 44, 12, 15,  6],\n",
       "       [39, 46,  6, 41, 13, 20, 22],\n",
       "       [11, 14, 25, 44, 12,  8, 24],\n",
       "       [41, 25,  9,  8, 14, 13, 51],\n",
       "       [33, 24,  6, 27, 15,  3, 47],\n",
       "       [53, 38, 47, 20, 12,  3, 50],\n",
       "       [13, 40, 49,  3, 52, 35, 39],\n",
       "       [44,  8, 34, 18, 23, 32, 50],\n",
       "       [21,  9, 24, 52, 31, 46,  5],\n",
       "       [45, 50, 11, 25, 24, 40, 27],\n",
       "       [ 3, 48, 14, 30, 18, 28,  7],\n",
       "       [34, 11, 30, 43, 26,  7, 37],\n",
       "       [46, 21, 47, 51,  9, 41,  6],\n",
       "       [44,  3, 34, 15, 25, 10, 21],\n",
       "       [35,  3,  4, 44, 26,  6, 12],\n",
       "       [36,  5,  4, 31, 35, 42, 44],\n",
       "       [11, 30, 40, 10, 13,  4, 38],\n",
       "       [17, 39, 13, 36, 14, 53,  5],\n",
       "       [ 4,  9, 49, 21, 47,  3, 18],\n",
       "       [31, 16,  3, 25, 21, 48,  4],\n",
       "       [19,  8, 49, 38, 39, 36, 20],\n",
       "       [47, 37, 38, 16, 11, 34, 10],\n",
       "       [33, 40, 13, 44,  3,  9, 18],\n",
       "       [32, 48, 46, 19, 21, 36, 13],\n",
       "       [16, 14, 22, 34, 37, 13,  7],\n",
       "       [24, 12, 23, 18, 26, 13,  7],\n",
       "       [15, 53, 39, 40, 34, 50, 25],\n",
       "       [45, 19, 28, 41, 31, 51, 47],\n",
       "       [44, 14, 49, 22, 24, 19, 41],\n",
       "       [28,  6, 16, 32, 46, 20,  9],\n",
       "       [ 3,  8, 17,  2, 13, 25, 35],\n",
       "       [10, 27,  5, 25,  4, 22, 42],\n",
       "       [32, 16, 25, 19, 50, 11, 31],\n",
       "       [12,  9, 34, 31, 24, 15, 30],\n",
       "       [16, 40, 33,  7, 22, 25, 36],\n",
       "       [23, 32, 29, 52, 13, 20, 47],\n",
       "       [50,  4, 13, 40, 19, 24, 48],\n",
       "       [ 8, 16, 21, 11, 44, 43, 38],\n",
       "       [50, 32, 49,  3, 10, 37, 26],\n",
       "       [52, 23, 31, 43, 48, 18, 26],\n",
       "       [ 9, 46, 49, 12, 28, 22, 33],\n",
       "       [26,  7, 42, 48,  9, 22, 33],\n",
       "       [11,  8, 20, 53, 28,  9, 30],\n",
       "       [39, 23, 17, 38, 21, 24, 46],\n",
       "       [16, 48, 27, 50, 34, 14, 28],\n",
       "       [48, 47, 43, 44, 34, 18, 49],\n",
       "       [37, 17, 20, 48, 14, 53, 35],\n",
       "       [29, 43, 47, 37,  3, 24,  4],\n",
       "       [40,  7, 13, 33, 52, 48,  4],\n",
       "       [15, 33, 20,  7,  4, 41, 14],\n",
       "       [34, 24, 31, 40, 47, 46,  3],\n",
       "       [17, 19, 39, 51, 38, 18, 41],\n",
       "       [27, 48, 40, 38, 10, 41, 44],\n",
       "       [23, 53, 27, 11, 16, 51, 52],\n",
       "       [21,  7, 13, 27, 25, 51, 40],\n",
       "       [50, 37, 29, 53, 52,  5, 49],\n",
       "       [16,  7, 13, 38, 20, 34, 28],\n",
       "       [ 7, 27, 26, 44, 20, 45, 24],\n",
       "       [20, 24, 35,  8, 17, 22,  9],\n",
       "       [18, 47, 40, 21, 15, 36,  2],\n",
       "       [47, 34, 30, 53, 36, 11, 42],\n",
       "       [53,  3, 12, 15, 18, 35,  5],\n",
       "       [38, 29, 52, 49, 16, 14, 28],\n",
       "       [46,  7, 24, 23, 15, 28, 34],\n",
       "       [47, 45, 50, 36,  7, 41, 31],\n",
       "       [36, 22, 33, 52, 25, 11, 43],\n",
       "       [30, 21, 20, 12, 46, 13,  7],\n",
       "       [46, 30,  7, 43, 39, 13, 42],\n",
       "       [38, 29, 34, 26, 31, 27, 48],\n",
       "       [42, 38, 44,  8,  2, 40, 15],\n",
       "       [33, 50, 53, 16, 20, 15, 23],\n",
       "       [20, 28, 37, 26, 15, 32, 31],\n",
       "       [ 4, 21, 26, 14, 22, 20, 34],\n",
       "       [40, 27,  9, 38, 36, 48, 53],\n",
       "       [43, 48, 10,  8,  9, 41, 33],\n",
       "       [32, 19, 29, 20, 51, 42,  7],\n",
       "       [16, 50,  5, 44, 32, 36, 28],\n",
       "       [41, 20, 15, 25, 45, 29,  4],\n",
       "       [ 5,  6, 21,  4, 36, 29, 44],\n",
       "       [22, 26,  6, 12, 23, 15, 39],\n",
       "       [39, 30,  8, 34, 42,  2,  4],\n",
       "       [ 8, 50, 34, 45, 43, 16, 13],\n",
       "       [28, 25, 50, 18, 15, 43, 45],\n",
       "       [27, 47, 38, 53,  5, 46, 30],\n",
       "       [30, 19, 20, 16, 11,  2,  7],\n",
       "       [39, 49,  2, 19, 12, 20, 30],\n",
       "       [30, 35, 45, 31, 33,  8, 24],\n",
       "       [ 9, 43, 46, 25, 27, 14, 40],\n",
       "       [34, 44, 14, 42, 47, 53, 50],\n",
       "       [12, 30, 52, 22,  9, 11, 39],\n",
       "       [24, 26, 18, 48,  9,  5, 42],\n",
       "       [22, 32, 29, 23, 35, 39, 44],\n",
       "       [32, 44, 47, 26, 49, 12, 19],\n",
       "       [ 2, 19, 16, 24, 45, 44, 17],\n",
       "       [ 7, 44, 37,  6, 14, 32, 47],\n",
       "       [33, 52, 22,  9, 29,  8, 41]])"
      ]
     },
     "execution_count": 17,
     "metadata": {},
     "output_type": "execute_result"
    }
   ],
   "source": [
    "encoded_example = encoder(example).numpy()\n",
    "encoded_example"
   ]
  },
  {
   "cell_type": "code",
   "execution_count": 18,
   "metadata": {},
   "outputs": [
    {
     "name": "stdout",
     "output_type": "stream",
     "text": [
      "Original:  b'D8 C3 S8 S3 H2 D7 CT'\n",
      "Round-trip:  d8 c3 s8 s3 h2 d7 ct\n",
      "\n",
      "Original:  b'C8 H7 S2 S8 CJ HA S9'\n",
      "Round-trip:  c8 h7 s2 s8 cj ha s9\n",
      "\n"
     ]
    }
   ],
   "source": [
    "for n in range(2):\n",
    "  print(\"Original: \", example[n].numpy())\n",
    "  print(\"Round-trip: \", \" \".join(vocab[encoded_example[n]]))\n",
    "  print()"
   ]
  },
  {
   "cell_type": "markdown",
   "metadata": {},
   "source": [
    "### Model "
   ]
  },
  {
   "cell_type": "code",
   "execution_count": null,
   "metadata": {},
   "outputs": [],
   "source": [
    "model = tf.keras.Sequential([\n",
    "    encoder,\n",
    "    tf.keras.layers.Embedding(\n",
    "        input_dim=len(encoder.get_vocabulary()),\n",
    "        output_dim=54,\n",
    "        # Use masking to handle the variable sequence lengths\n",
    "        mask_zero=True),\n",
    "    tf.keras.layers.Bidirectional(tf.keras.layers.LSTM(54)),\n",
    "    tf.keras.layers.Dense(54, activation='elu'),\n",
    "    tf.keras.layers.Dense(54, activation='elu'),\n",
    "    tf.keras.layers.Dense(54, activation='elu'),\n",
    "    tf.keras.layers.Dense(54, activation='elu'),\n",
    "    tf.keras.layers.Dense(54, activation='elu'),\n",
    "    tf.keras.layers.Dense(54, activation='elu'),\n",
    "    tf.keras.layers.Dense(54, activation='elu'),\n",
    "    tf.keras.layers.Dense(54, activation='elu'),\n",
    "    tf.keras.layers.Dense(54, activation='elu'),\n",
    "    tf.keras.layers.Dense(54, activation='elu'),\n",
    "    tf.keras.layers.Dense(9)\n",
    "])"
   ]
  },
  {
   "cell_type": "code",
   "execution_count": 32,
   "metadata": {},
   "outputs": [
    {
     "name": "stdout",
     "output_type": "stream",
     "text": [
      "[False, True, True, True, True, True, True, True, True, True, True, True, True, True]\n"
     ]
    }
   ],
   "source": [
    "print([layer.supports_masking for layer in model.layers])\n"
   ]
  },
  {
   "cell_type": "code",
   "execution_count": 33,
   "metadata": {},
   "outputs": [],
   "source": [
    "model.compile(loss=tf.keras.losses.CategoricalCrossentropy(from_logits=True),\n",
    "              optimizer=tf.keras.optimizers.Adam(1e-4),\n",
    "              metrics=['accuracy'])"
   ]
  },
  {
   "cell_type": "code",
   "execution_count": 34,
   "metadata": {},
   "outputs": [
    {
     "name": "stdout",
     "output_type": "stream",
     "text": [
      "Epoch 1/120\n",
      "8868/8868 [==============================] - 78s 9ms/step - loss: 0.2625 - accuracy: 0.3067 - val_loss: 1.9380 - val_accuracy: 0.1400\n",
      "Epoch 2/120\n",
      "8868/8868 [==============================] - 75s 8ms/step - loss: 0.2542 - accuracy: 0.3480 - val_loss: 1.7883 - val_accuracy: 0.1100\n",
      "Epoch 3/120\n",
      "8868/8868 [==============================] - 75s 8ms/step - loss: 0.2517 - accuracy: 0.3568 - val_loss: 1.7759 - val_accuracy: 0.1400\n",
      "Epoch 4/120\n",
      "8868/8868 [==============================] - 73s 8ms/step - loss: 0.2485 - accuracy: 0.3693 - val_loss: 1.7068 - val_accuracy: 0.1400\n",
      "Epoch 5/120\n",
      "8868/8868 [==============================] - 74s 8ms/step - loss: 0.2396 - accuracy: 0.4071 - val_loss: 1.7328 - val_accuracy: 0.1200\n",
      "Epoch 6/120\n",
      "8868/8868 [==============================] - 64s 7ms/step - loss: 0.2298 - accuracy: 0.4365 - val_loss: 1.7309 - val_accuracy: 0.1500\n",
      "Epoch 7/120\n",
      "8868/8868 [==============================] - 51s 6ms/step - loss: 0.2165 - accuracy: 0.4760 - val_loss: 1.8934 - val_accuracy: 0.1200\n",
      "Epoch 8/120\n",
      "8868/8868 [==============================] - 56s 6ms/step - loss: 0.2140 - accuracy: 0.4809 - val_loss: 1.8447 - val_accuracy: 0.1300\n",
      "Epoch 9/120\n",
      "8868/8868 [==============================] - 53s 6ms/step - loss: 0.2122 - accuracy: 0.4844 - val_loss: 1.8076 - val_accuracy: 0.1400\n",
      "Epoch 10/120\n",
      "8868/8868 [==============================] - 53s 6ms/step - loss: 0.2105 - accuracy: 0.4943 - val_loss: 1.7987 - val_accuracy: 0.1400\n",
      "Epoch 11/120\n",
      "8868/8868 [==============================] - 52s 6ms/step - loss: 0.2060 - accuracy: 0.5123 - val_loss: 1.7014 - val_accuracy: 0.1700\n",
      "Epoch 12/120\n",
      "8868/8868 [==============================] - 52s 6ms/step - loss: 0.2015 - accuracy: 0.5255 - val_loss: 1.6117 - val_accuracy: 0.2000\n",
      "Epoch 13/120\n",
      "8868/8868 [==============================] - 53s 6ms/step - loss: 0.1986 - accuracy: 0.5331 - val_loss: 1.6082 - val_accuracy: 0.2000\n",
      "Epoch 14/120\n",
      "8868/8868 [==============================] - 51s 6ms/step - loss: 0.1937 - accuracy: 0.5470 - val_loss: 1.5712 - val_accuracy: 0.2100\n",
      "Epoch 15/120\n",
      "8868/8868 [==============================] - 53s 6ms/step - loss: 0.1864 - accuracy: 0.5717 - val_loss: 1.5120 - val_accuracy: 0.2300\n",
      "Epoch 16/120\n",
      "8868/8868 [==============================] - 52s 6ms/step - loss: 0.1782 - accuracy: 0.5999 - val_loss: 1.3696 - val_accuracy: 0.2700\n",
      "Epoch 17/120\n",
      "8868/8868 [==============================] - 52s 6ms/step - loss: 0.1725 - accuracy: 0.6162 - val_loss: 1.3067 - val_accuracy: 0.2900\n",
      "Epoch 18/120\n",
      "8868/8868 [==============================] - 53s 6ms/step - loss: 0.1686 - accuracy: 0.6278 - val_loss: 1.2255 - val_accuracy: 0.3100\n",
      "Epoch 19/120\n",
      "8868/8868 [==============================] - 53s 6ms/step - loss: 0.1654 - accuracy: 0.6374 - val_loss: 1.2132 - val_accuracy: 0.2900\n",
      "Epoch 20/120\n",
      "8868/8868 [==============================] - 52s 6ms/step - loss: 0.1626 - accuracy: 0.6443 - val_loss: 1.1226 - val_accuracy: 0.3400\n",
      "Epoch 21/120\n",
      "8868/8868 [==============================] - 53s 6ms/step - loss: 0.1595 - accuracy: 0.6540 - val_loss: 1.1083 - val_accuracy: 0.3300\n",
      "Epoch 22/120\n",
      "8868/8868 [==============================] - 52s 6ms/step - loss: 0.1556 - accuracy: 0.6639 - val_loss: 1.1056 - val_accuracy: 0.3200\n",
      "Epoch 23/120\n",
      "8868/8868 [==============================] - 53s 6ms/step - loss: 0.1503 - accuracy: 0.6760 - val_loss: 1.0973 - val_accuracy: 0.3100\n",
      "Epoch 24/120\n",
      "8868/8868 [==============================] - 54s 6ms/step - loss: 0.1429 - accuracy: 0.6937 - val_loss: 1.0228 - val_accuracy: 0.3200\n",
      "Epoch 25/120\n",
      "8868/8868 [==============================] - 53s 6ms/step - loss: 0.1350 - accuracy: 0.7103 - val_loss: 1.0150 - val_accuracy: 0.3100\n",
      "Epoch 26/120\n",
      "8868/8868 [==============================] - 55s 6ms/step - loss: 0.1269 - accuracy: 0.7280 - val_loss: 0.9867 - val_accuracy: 0.3100\n",
      "Epoch 27/120\n",
      "8868/8868 [==============================] - 55s 6ms/step - loss: 0.1204 - accuracy: 0.7426 - val_loss: 0.9611 - val_accuracy: 0.3300\n",
      "Epoch 28/120\n",
      "8868/8868 [==============================] - 58s 7ms/step - loss: 0.1162 - accuracy: 0.7538 - val_loss: 0.9638 - val_accuracy: 0.3200\n",
      "Epoch 29/120\n",
      "8868/8868 [==============================] - 58s 7ms/step - loss: 0.1125 - accuracy: 0.7615 - val_loss: 0.9347 - val_accuracy: 0.3400\n",
      "Epoch 30/120\n",
      "8868/8868 [==============================] - 69s 8ms/step - loss: 0.1108 - accuracy: 0.7660 - val_loss: 0.9629 - val_accuracy: 0.3300\n",
      "Epoch 31/120\n",
      "8868/8868 [==============================] - 69s 8ms/step - loss: 0.1069 - accuracy: 0.7737 - val_loss: 0.9711 - val_accuracy: 0.3300\n",
      "Epoch 32/120\n",
      "8868/8868 [==============================] - 64s 7ms/step - loss: 0.1047 - accuracy: 0.7794 - val_loss: 0.9646 - val_accuracy: 0.3200\n",
      "Epoch 33/120\n",
      "8868/8868 [==============================] - 63s 7ms/step - loss: 0.1027 - accuracy: 0.7850 - val_loss: 0.9547 - val_accuracy: 0.3300\n",
      "Epoch 34/120\n",
      "8868/8868 [==============================] - 66s 7ms/step - loss: 0.0985 - accuracy: 0.7957 - val_loss: 0.9211 - val_accuracy: 0.3500\n",
      "Epoch 35/120\n",
      "8868/8868 [==============================] - 61s 7ms/step - loss: 0.0949 - accuracy: 0.8046 - val_loss: 0.9245 - val_accuracy: 0.3400\n",
      "Epoch 36/120\n",
      "8868/8868 [==============================] - 67s 8ms/step - loss: 0.0883 - accuracy: 0.8213 - val_loss: 0.9509 - val_accuracy: 0.3400\n",
      "Epoch 37/120\n",
      "8868/8868 [==============================] - 70s 8ms/step - loss: 0.0823 - accuracy: 0.8357 - val_loss: 0.8816 - val_accuracy: 0.4000\n",
      "Epoch 38/120\n",
      "8868/8868 [==============================] - 68s 8ms/step - loss: 0.0776 - accuracy: 0.8471 - val_loss: 0.8743 - val_accuracy: 0.3700\n",
      "Epoch 39/120\n",
      "8868/8868 [==============================] - 69s 8ms/step - loss: 0.0707 - accuracy: 0.8622 - val_loss: 0.8816 - val_accuracy: 0.3900\n",
      "Epoch 40/120\n",
      "8868/8868 [==============================] - 71s 8ms/step - loss: 0.0609 - accuracy: 0.8852 - val_loss: 0.7846 - val_accuracy: 0.4200\n",
      "Epoch 41/120\n",
      "8868/8868 [==============================] - 69s 8ms/step - loss: 0.0536 - accuracy: 0.9036 - val_loss: 0.7530 - val_accuracy: 0.4300\n",
      "Epoch 42/120\n",
      "8868/8868 [==============================] - 62s 7ms/step - loss: 0.0482 - accuracy: 0.9157 - val_loss: 0.7128 - val_accuracy: 0.4300\n",
      "Epoch 43/120\n",
      "8868/8868 [==============================] - 70s 8ms/step - loss: 0.0441 - accuracy: 0.9232 - val_loss: 0.7387 - val_accuracy: 0.4300\n",
      "Epoch 44/120\n",
      "8868/8868 [==============================] - 69s 8ms/step - loss: 0.0405 - accuracy: 0.9304 - val_loss: 0.7991 - val_accuracy: 0.4300\n",
      "Epoch 45/120\n",
      "8868/8868 [==============================] - 64s 7ms/step - loss: 0.0374 - accuracy: 0.9367 - val_loss: 0.7251 - val_accuracy: 0.4800\n",
      "Epoch 46/120\n",
      "8868/8868 [==============================] - 63s 7ms/step - loss: 0.0340 - accuracy: 0.9435 - val_loss: 0.7147 - val_accuracy: 0.5300\n",
      "Epoch 47/120\n",
      "8868/8868 [==============================] - 55s 6ms/step - loss: 0.0305 - accuracy: 0.9491 - val_loss: 0.6984 - val_accuracy: 0.5500\n",
      "Epoch 48/120\n",
      "8868/8868 [==============================] - 53s 6ms/step - loss: 0.0288 - accuracy: 0.9529 - val_loss: 0.5113 - val_accuracy: 0.5900\n",
      "Epoch 49/120\n",
      "8868/8868 [==============================] - 54s 6ms/step - loss: 0.0246 - accuracy: 0.9616 - val_loss: 0.3921 - val_accuracy: 0.7000\n",
      "Epoch 50/120\n",
      "8868/8868 [==============================] - 55s 6ms/step - loss: 0.0218 - accuracy: 0.9690 - val_loss: 0.3976 - val_accuracy: 0.7700\n",
      "Epoch 51/120\n",
      "8868/8868 [==============================] - 54s 6ms/step - loss: 0.0182 - accuracy: 0.9766 - val_loss: 0.4016 - val_accuracy: 0.7700\n",
      "Epoch 52/120\n",
      "8868/8868 [==============================] - 57s 6ms/step - loss: 0.0148 - accuracy: 0.9817 - val_loss: 0.3403 - val_accuracy: 0.8200\n",
      "Epoch 53/120\n",
      "8868/8868 [==============================] - 60s 7ms/step - loss: 0.0138 - accuracy: 0.9834 - val_loss: 0.3536 - val_accuracy: 0.8200\n",
      "Epoch 54/120\n",
      "8868/8868 [==============================] - 64s 7ms/step - loss: 0.0123 - accuracy: 0.9864 - val_loss: 0.3337 - val_accuracy: 0.8200\n",
      "Epoch 55/120\n",
      "8868/8868 [==============================] - 62s 7ms/step - loss: 0.0117 - accuracy: 0.9865 - val_loss: 0.2605 - val_accuracy: 0.8700\n",
      "Epoch 56/120\n",
      "8868/8868 [==============================] - 61s 7ms/step - loss: 0.0108 - accuracy: 0.9879 - val_loss: 0.2334 - val_accuracy: 0.8600\n"
     ]
    },
    {
     "name": "stdout",
     "output_type": "stream",
     "text": [
      "Epoch 57/120\n",
      "8868/8868 [==============================] - 63s 7ms/step - loss: 0.0109 - accuracy: 0.9883 - val_loss: 0.3090 - val_accuracy: 0.8600\n",
      "Epoch 58/120\n",
      "8868/8868 [==============================] - 64s 7ms/step - loss: 0.0096 - accuracy: 0.9898 - val_loss: 0.2991 - val_accuracy: 0.8700\n",
      "Epoch 59/120\n",
      "8868/8868 [==============================] - 63s 7ms/step - loss: 0.0104 - accuracy: 0.9890 - val_loss: 0.1955 - val_accuracy: 0.8900\n",
      "Epoch 60/120\n",
      "8868/8868 [==============================] - 70s 8ms/step - loss: 0.0083 - accuracy: 0.9910 - val_loss: 0.2191 - val_accuracy: 0.8900\n",
      "Epoch 61/120\n",
      "8868/8868 [==============================] - 71s 8ms/step - loss: 0.0085 - accuracy: 0.9911 - val_loss: 0.2367 - val_accuracy: 0.9000\n",
      "Epoch 62/120\n",
      "8868/8868 [==============================] - 64s 7ms/step - loss: 0.0079 - accuracy: 0.9920 - val_loss: 0.2287 - val_accuracy: 0.8900\n",
      "Epoch 63/120\n",
      "8868/8868 [==============================] - 53s 6ms/step - loss: 0.0074 - accuracy: 0.9924 - val_loss: 0.2060 - val_accuracy: 0.9000\n",
      "Epoch 64/120\n",
      "8868/8868 [==============================] - 54s 6ms/step - loss: 0.0073 - accuracy: 0.9922 - val_loss: 0.2226 - val_accuracy: 0.9100\n",
      "Epoch 65/120\n",
      "8868/8868 [==============================] - 52s 6ms/step - loss: 0.0076 - accuracy: 0.9920 - val_loss: 0.2336 - val_accuracy: 0.9000\n",
      "Epoch 66/120\n",
      "8868/8868 [==============================] - 52s 6ms/step - loss: 0.0071 - accuracy: 0.9924 - val_loss: 0.1725 - val_accuracy: 0.9400\n",
      "Epoch 67/120\n",
      "8868/8868 [==============================] - 53s 6ms/step - loss: 0.0073 - accuracy: 0.9925 - val_loss: 0.2501 - val_accuracy: 0.9100\n",
      "Epoch 68/120\n",
      "8868/8868 [==============================] - 52s 6ms/step - loss: 0.0054 - accuracy: 0.9944 - val_loss: 0.2067 - val_accuracy: 0.9200\n",
      "Epoch 69/120\n",
      "8868/8868 [==============================] - 53s 6ms/step - loss: 0.0064 - accuracy: 0.9933 - val_loss: 0.2203 - val_accuracy: 0.9200\n",
      "Epoch 70/120\n",
      "8868/8868 [==============================] - 52s 6ms/step - loss: 0.0067 - accuracy: 0.9930 - val_loss: 0.1684 - val_accuracy: 0.9300\n",
      "Epoch 71/120\n",
      "8868/8868 [==============================] - 54s 6ms/step - loss: 0.0055 - accuracy: 0.9939 - val_loss: 0.1767 - val_accuracy: 0.9400\n",
      "Epoch 72/120\n",
      "8868/8868 [==============================] - 52s 6ms/step - loss: 0.0065 - accuracy: 0.9929 - val_loss: 0.2143 - val_accuracy: 0.9300\n",
      "Epoch 73/120\n",
      "8868/8868 [==============================] - 53s 6ms/step - loss: 0.0053 - accuracy: 0.9940 - val_loss: 0.1749 - val_accuracy: 0.9300\n",
      "Epoch 74/120\n",
      "8868/8868 [==============================] - 52s 6ms/step - loss: 0.0058 - accuracy: 0.9938 - val_loss: 0.1486 - val_accuracy: 0.9400\n",
      "Epoch 75/120\n",
      "8868/8868 [==============================] - 52s 6ms/step - loss: 0.0046 - accuracy: 0.9950 - val_loss: 0.2120 - val_accuracy: 0.9200\n",
      "Epoch 76/120\n",
      "8868/8868 [==============================] - 53s 6ms/step - loss: 0.0050 - accuracy: 0.9946 - val_loss: 0.1411 - val_accuracy: 0.9300\n",
      "Epoch 77/120\n",
      "8868/8868 [==============================] - 52s 6ms/step - loss: 0.0048 - accuracy: 0.9948 - val_loss: 0.1524 - val_accuracy: 0.9300\n",
      "Epoch 78/120\n",
      "8868/8868 [==============================] - 53s 6ms/step - loss: 0.0053 - accuracy: 0.9942 - val_loss: 0.1191 - val_accuracy: 0.9400\n",
      "Epoch 79/120\n",
      "8868/8868 [==============================] - 52s 6ms/step - loss: 0.0048 - accuracy: 0.9948 - val_loss: 0.1803 - val_accuracy: 0.9200\n",
      "Epoch 80/120\n",
      "8868/8868 [==============================] - 53s 6ms/step - loss: 0.0044 - accuracy: 0.9947 - val_loss: 0.1666 - val_accuracy: 0.9300\n",
      "Epoch 81/120\n",
      "8868/8868 [==============================] - 52s 6ms/step - loss: 0.0043 - accuracy: 0.9951 - val_loss: 0.1830 - val_accuracy: 0.9200\n",
      "Epoch 82/120\n",
      "8868/8868 [==============================] - 52s 6ms/step - loss: 0.0040 - accuracy: 0.9956 - val_loss: 0.1729 - val_accuracy: 0.9200\n",
      "Epoch 83/120\n",
      "8868/8868 [==============================] - 54s 6ms/step - loss: 0.0042 - accuracy: 0.9952 - val_loss: 0.1813 - val_accuracy: 0.9300\n",
      "Epoch 84/120\n",
      "8868/8868 [==============================] - 52s 6ms/step - loss: 0.0039 - accuracy: 0.9955 - val_loss: 0.1531 - val_accuracy: 0.9300\n",
      "Epoch 85/120\n",
      "8868/8868 [==============================] - 53s 6ms/step - loss: 0.0041 - accuracy: 0.9953 - val_loss: 0.1499 - val_accuracy: 0.9300\n",
      "Epoch 86/120\n",
      "8868/8868 [==============================] - 52s 6ms/step - loss: 0.0041 - accuracy: 0.9950 - val_loss: 0.1272 - val_accuracy: 0.9300\n",
      "Epoch 87/120\n",
      "8868/8868 [==============================] - 54s 6ms/step - loss: 0.0038 - accuracy: 0.9960 - val_loss: 0.1463 - val_accuracy: 0.9300\n",
      "Epoch 88/120\n",
      "8868/8868 [==============================] - 52s 6ms/step - loss: 0.0038 - accuracy: 0.9955 - val_loss: 0.1472 - val_accuracy: 0.9300\n",
      "Epoch 89/120\n",
      "8868/8868 [==============================] - 53s 6ms/step - loss: 0.0031 - accuracy: 0.9965 - val_loss: 0.1798 - val_accuracy: 0.9200\n",
      "Epoch 90/120\n",
      "8868/8868 [==============================] - 52s 6ms/step - loss: 0.0045 - accuracy: 0.9949 - val_loss: 0.1326 - val_accuracy: 0.9400\n",
      "Epoch 91/120\n",
      "8868/8868 [==============================] - 52s 6ms/step - loss: 0.0033 - accuracy: 0.9962 - val_loss: 0.1380 - val_accuracy: 0.9400\n",
      "Epoch 92/120\n",
      "8868/8868 [==============================] - 53s 6ms/step - loss: 0.0030 - accuracy: 0.9966 - val_loss: 0.1661 - val_accuracy: 0.9200\n",
      "Epoch 93/120\n",
      "8868/8868 [==============================] - 52s 6ms/step - loss: 0.0031 - accuracy: 0.9966 - val_loss: 0.1628 - val_accuracy: 0.9300\n",
      "Epoch 94/120\n",
      "8868/8868 [==============================] - 53s 6ms/step - loss: 0.0035 - accuracy: 0.9965 - val_loss: 0.1580 - val_accuracy: 0.9300\n",
      "Epoch 95/120\n",
      "8868/8868 [==============================] - 52s 6ms/step - loss: 0.0033 - accuracy: 0.9966 - val_loss: 0.1719 - val_accuracy: 0.9200\n",
      "Epoch 96/120\n",
      "8868/8868 [==============================] - 54s 6ms/step - loss: 0.0030 - accuracy: 0.9967 - val_loss: 0.1371 - val_accuracy: 0.9400\n",
      "Epoch 97/120\n",
      "8868/8868 [==============================] - 53s 6ms/step - loss: 0.0030 - accuracy: 0.9967 - val_loss: 0.1382 - val_accuracy: 0.9400\n",
      "Epoch 98/120\n",
      "8868/8868 [==============================] - 53s 6ms/step - loss: 0.0031 - accuracy: 0.9964 - val_loss: 0.1701 - val_accuracy: 0.9200\n",
      "Epoch 99/120\n",
      "8868/8868 [==============================] - 52s 6ms/step - loss: 0.0031 - accuracy: 0.9965 - val_loss: 0.1281 - val_accuracy: 0.9400\n",
      "Epoch 100/120\n",
      "8868/8868 [==============================] - 53s 6ms/step - loss: 0.0024 - accuracy: 0.9975 - val_loss: 0.1474 - val_accuracy: 0.9400\n",
      "Epoch 101/120\n",
      "8868/8868 [==============================] - 54s 6ms/step - loss: 0.0033 - accuracy: 0.9962 - val_loss: 0.1254 - val_accuracy: 0.9400\n",
      "Epoch 102/120\n",
      "8868/8868 [==============================] - 53s 6ms/step - loss: 0.0023 - accuracy: 0.9975 - val_loss: 0.1384 - val_accuracy: 0.9300\n",
      "Epoch 103/120\n",
      "8868/8868 [==============================] - 54s 6ms/step - loss: 0.0029 - accuracy: 0.9968 - val_loss: 0.1605 - val_accuracy: 0.9200\n",
      "Epoch 104/120\n",
      "8868/8868 [==============================] - 52s 6ms/step - loss: 0.0030 - accuracy: 0.9965 - val_loss: 0.1558 - val_accuracy: 0.9200\n",
      "Epoch 105/120\n",
      "8868/8868 [==============================] - 53s 6ms/step - loss: 0.0034 - accuracy: 0.9962 - val_loss: 0.1580 - val_accuracy: 0.9200\n",
      "Epoch 106/120\n",
      "8868/8868 [==============================] - 53s 6ms/step - loss: 0.0022 - accuracy: 0.9974 - val_loss: 0.1812 - val_accuracy: 0.9100\n",
      "Epoch 107/120\n",
      "8868/8868 [==============================] - 53s 6ms/step - loss: 0.0035 - accuracy: 0.9960 - val_loss: 0.1714 - val_accuracy: 0.9200\n",
      "Epoch 108/120\n",
      "8868/8868 [==============================] - 53s 6ms/step - loss: 0.0038 - accuracy: 0.9957 - val_loss: 0.1911 - val_accuracy: 0.9200\n",
      "Epoch 109/120\n",
      "8868/8868 [==============================] - 52s 6ms/step - loss: 0.0026 - accuracy: 0.9974 - val_loss: 0.1881 - val_accuracy: 0.9200\n",
      "Epoch 110/120\n",
      "8868/8868 [==============================] - 54s 6ms/step - loss: 0.0030 - accuracy: 0.9967 - val_loss: 0.1881 - val_accuracy: 0.9100\n",
      "Epoch 111/120\n",
      "8868/8868 [==============================] - 52s 6ms/step - loss: 0.0025 - accuracy: 0.9974 - val_loss: 0.2101 - val_accuracy: 0.9100\n",
      "Epoch 112/120\n",
      "8868/8868 [==============================] - 52s 6ms/step - loss: 0.0021 - accuracy: 0.9977 - val_loss: 0.1726 - val_accuracy: 0.9200\n",
      "Epoch 113/120\n",
      "8868/8868 [==============================] - 51s 6ms/step - loss: 0.0031 - accuracy: 0.9968 - val_loss: 0.1745 - val_accuracy: 0.9200\n",
      "Epoch 114/120\n",
      "8868/8868 [==============================] - 52s 6ms/step - loss: 0.0021 - accuracy: 0.9976 - val_loss: 0.1374 - val_accuracy: 0.9300\n",
      "Epoch 115/120\n",
      "8868/8868 [==============================] - 51s 6ms/step - loss: 0.0028 - accuracy: 0.9969 - val_loss: 0.1905 - val_accuracy: 0.9200\n",
      "Epoch 116/120\n",
      "8868/8868 [==============================] - 51s 6ms/step - loss: 0.0026 - accuracy: 0.9972 - val_loss: 0.1817 - val_accuracy: 0.9300\n",
      "Epoch 117/120\n",
      "8868/8868 [==============================] - 52s 6ms/step - loss: 0.0022 - accuracy: 0.9975 - val_loss: 0.1949 - val_accuracy: 0.9200\n",
      "Epoch 118/120\n",
      "8868/8868 [==============================] - 51s 6ms/step - loss: 0.0018 - accuracy: 0.9981 - val_loss: 0.1957 - val_accuracy: 0.9100\n",
      "Epoch 119/120\n",
      "8868/8868 [==============================] - 52s 6ms/step - loss: 0.0024 - accuracy: 0.9976 - val_loss: 0.1589 - val_accuracy: 0.9400\n",
      "Epoch 120/120\n",
      "8868/8868 [==============================] - 51s 6ms/step - loss: 0.0026 - accuracy: 0.9974 - val_loss: 0.1765 - val_accuracy: 0.9300\n"
     ]
    }
   ],
   "source": [
    "history = model.fit(train_dataset, epochs=120,\n",
    "                    validation_data=test_dataset, \n",
    "                    validation_steps=1)"
   ]
  },
  {
   "cell_type": "code",
   "execution_count": 35,
   "metadata": {},
   "outputs": [
    {
     "name": "stdout",
     "output_type": "stream",
     "text": [
      "100/100 [==============================] - 0s 2ms/step - loss: 0.2614 - accuracy: 0.8794\n",
      "Test Loss: 0.26138415932655334\n",
      "Test Accuracy: 0.8794000148773193\n"
     ]
    }
   ],
   "source": [
    "test_loss, test_acc = model.evaluate(test_dataset)\n",
    "\n",
    "print('Test Loss: {}'.format(test_loss))\n",
    "print('Test Accuracy: {}'.format(test_acc))"
   ]
  },
  {
   "cell_type": "code",
   "execution_count": 36,
   "metadata": {},
   "outputs": [
    {
     "data": {
      "image/png": "[encoded data removed]",
      "text/plain": [
       "<Figure size 1152x432 with 2 Axes>"
      ]
     },
     "metadata": {
      "needs_background": "light"
     },
     "output_type": "display_data"
    }
   ],
   "source": [
    "import matplotlib.pyplot as plt\n",
    "\n",
    "def plot_graphs(history, metric):\n",
    "  plt.plot(history.history[metric])\n",
    "  plt.plot(history.history['val_'+metric], '')\n",
    "  plt.xlabel(\"Epochs\")\n",
    "  plt.ylabel(metric)\n",
    "  plt.legend([metric, 'val_'+metric])\n",
    "\n",
    "plt.figure(figsize=(16,6))\n",
    "plt.subplot(1,2,1)\n",
    "plot_graphs(history, 'accuracy')\n",
    "plt.subplot(1,2,2)\n",
    "plot_graphs(history, 'loss')"
   ]
  }
 ],
 "metadata": {
  "kernelspec": {
   "display_name": "Python 3",
   "language": "python",
   "name": "python3"
  },
  "language_info": {
   "codemirror_mode": {
    "name": "ipython",
    "version": 3
   },
   "file_extension": ".py",
   "mimetype": "text/x-python",
   "name": "python",
   "nbconvert_exporter": "python",
   "pygments_lexer": "ipython3",
   "version": "3.8.6"
  }
 },
 "nbformat": 4,
 "nbformat_minor": 4
}
