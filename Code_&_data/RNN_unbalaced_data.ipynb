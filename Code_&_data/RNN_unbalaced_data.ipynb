{
 "cells": [
  {
   "cell_type": "markdown",
   "metadata": {},
   "source": [
    "### Load the data and prerocessing"
   ]
  },
  {
   "cell_type": "code",
   "execution_count": 2,
   "metadata": {},
   "outputs": [],
   "source": [
    "import utils\n",
    "import tensorflow as tf\n",
    "from tensorflow.keras import preprocessing\n",
    "import numpy as np"
   ]
  },
  {
   "cell_type": "code",
   "execution_count": 3,
   "metadata": {},
   "outputs": [],
   "source": [
    "training_set = np.loadtxt(\"raw_training_set_1mil.dat\", dtype=str, delimiter=',')\n",
    "labels = np.loadtxt(\"raw_label_set_1mil.dat\", dtype=int, delimiter=',')"
   ]
  },
  {
   "cell_type": "code",
   "execution_count": 4,
   "metadata": {},
   "outputs": [],
   "source": [
    "card_str_list = []\n",
    "catgory_list = []\n",
    "for l in range(len(training_set)):\n",
    "    card_str_list.append(list(training_set[l]))\n",
    "    catgory_list.append(labels[l])\n",
    "    \n",
    "depth = 9\n",
    "catgory_list = tf.one_hot(catgory_list, depth)"
   ]
  },
  {
   "cell_type": "code",
   "execution_count": 5,
   "metadata": {},
   "outputs": [],
   "source": [
    "string_of_cards = []\n",
    "\n",
    "for row in card_str_list:\n",
    "    string_of_cards.append(row[0] + ' ' + row[1] + ' ' +row[2] + ' ' +row[3] + ' ' +row[4] + ' ' +row[5] + ' ' +row[6])"
   ]
  },
  {
   "cell_type": "code",
   "execution_count": 6,
   "metadata": {},
   "outputs": [],
   "source": [
    "train_dataset = tf.data.Dataset.from_tensor_slices((string_of_cards, catgory_list))"
   ]
  },
  {
   "cell_type": "markdown",
   "metadata": {},
   "source": [
    "### Test data"
   ]
  },
  {
   "cell_type": "code",
   "execution_count": 7,
   "metadata": {},
   "outputs": [],
   "source": [
    "test_set = []\n",
    "for i in range(10000):\n",
    "    New_deck = utils.init_standard_deck()\n",
    "    chosen_cards, remained_cards = utils.get_random_cards(New_deck, 7)\n",
    "    test_set.append(utils.Card_Rank(chosen_cards))"
   ]
  },
  {
   "cell_type": "code",
   "execution_count": 8,
   "metadata": {},
   "outputs": [],
   "source": [
    "card_str_list = []\n",
    "catgory_list = []\n",
    "\n",
    "for row in test_set:\n",
    "    card_str_list.append(row[4])\n",
    "    catgory_list.append(row[0])\n",
    "\n",
    "depth = 9\n",
    "catgory_list = tf.one_hot(catgory_list, depth)\n",
    "\n",
    "string_of_cards = []\n",
    "for row in card_str_list:\n",
    "    string_of_cards.append(row[0] + ' ' + row[1] + ' ' +row[2] + ' ' +row[3] + ' ' +row[4] + ' ' +row[5] + ' ' +row[6])"
   ]
  },
  {
   "cell_type": "code",
   "execution_count": 9,
   "metadata": {},
   "outputs": [],
   "source": [
    "test_dataset = tf.data.Dataset.from_tensor_slices((string_of_cards, catgory_list))"
   ]
  },
  {
   "cell_type": "markdown",
   "metadata": {},
   "source": [
    "### Bath size and shuffel the data"
   ]
  },
  {
   "cell_type": "code",
   "execution_count": 10,
   "metadata": {},
   "outputs": [],
   "source": [
    "BUFFER_SIZE = 10\n",
    "BATCH_SIZE = 100\n",
    "train_dataset = train_dataset.shuffle(BUFFER_SIZE).batch(BATCH_SIZE).prefetch(tf.data.experimental.AUTOTUNE)\n",
    "test_dataset = test_dataset.shuffle(BUFFER_SIZE).batch(BATCH_SIZE).prefetch(tf.data.experimental.AUTOTUNE)"
   ]
  },
  {
   "cell_type": "markdown",
   "metadata": {},
   "source": [
    "### Vectorization of the data\n"
   ]
  },
  {
   "cell_type": "code",
   "execution_count": 11,
   "metadata": {},
   "outputs": [],
   "source": [
    "VOCAB_SIZE = 54\n",
    "encoder = tf.keras.layers.experimental.preprocessing.TextVectorization(max_tokens=VOCAB_SIZE)\n",
    "encoder.adapt(train_dataset.map(lambda text, label: text))"
   ]
  },
  {
   "cell_type": "markdown",
   "metadata": {},
   "source": [
    "### Model "
   ]
  },
  {
   "cell_type": "code",
   "execution_count": 16,
   "metadata": {},
   "outputs": [],
   "source": [
    "model = tf.keras.Sequential([\n",
    "    encoder,\n",
    "    tf.keras.layers.Embedding(\n",
    "        input_dim=len(encoder.get_vocabulary()),\n",
    "        output_dim=54,\n",
    "        # Use masking to handle the variable sequence lengths\n",
    "        mask_zero=True),\n",
    "    tf.keras.layers.Bidirectional(tf.keras.layers.LSTM(54)),\n",
    "    tf.keras.layers.Dense(54, activation='elu'),\n",
    "    tf.keras.layers.Dense(54, activation='elu'),\n",
    "    tf.keras.layers.Dense(54, activation='elu'),\n",
    "    tf.keras.layers.Dense(54, activation='elu'),\n",
    "    tf.keras.layers.Dense(54, activation='elu'),\n",
    "    tf.keras.layers.Dense(54, activation='elu'),\n",
    "    tf.keras.layers.Dense(54, activation='elu'),\n",
    "    tf.keras.layers.Dense(54, activation='elu'),\n",
    "    tf.keras.layers.Dense(54, activation='elu'),\n",
    "    tf.keras.layers.Dense(54, activation='elu'),\n",
    "    tf.keras.layers.Dense(9)\n",
    "])"
   ]
  },
  {
   "cell_type": "code",
   "execution_count": 17,
   "metadata": {},
   "outputs": [],
   "source": [
    "model.compile(loss=tf.keras.losses.CategoricalCrossentropy(from_logits=True),\n",
    "              optimizer=tf.keras.optimizers.Adam(1e-4),\n",
    "              metrics=['accuracy'])"
   ]
  },
  {
   "cell_type": "markdown",
   "metadata": {},
   "source": [
    "```\n",
    "_________________________________________________________________\n",
    "Layer (type)                 Output Shape              Param #   \n",
    "=================================================================\n",
    "text_vectorization (TextVect (None, None)              0         \n",
    "_________________________________________________________________\n",
    "embedding_1 (Embedding)      (None, None, 54)          2916      \n",
    "_________________________________________________________________\n",
    "bidirectional_1 (Bidirection (None, 108)               47088     \n",
    "_________________________________________________________________\n",
    "dense_11 (Dense)             (None, 54)                5886      \n",
    "_________________________________________________________________\n",
    "dense_12 (Dense)             (None, 54)                2970      \n",
    "_________________________________________________________________\n",
    "dense_13 (Dense)             (None, 54)                2970      \n",
    "_________________________________________________________________\n",
    "dense_14 (Dense)             (None, 54)                2970      \n",
    "_________________________________________________________________\n",
    "dense_15 (Dense)             (None, 54)                2970      \n",
    "_________________________________________________________________\n",
    "dense_16 (Dense)             (None, 54)                2970      \n",
    "_________________________________________________________________\n",
    "dense_17 (Dense)             (None, 54)                2970      \n",
    "_________________________________________________________________\n",
    "dense_18 (Dense)             (None, 54)                2970      \n",
    "_________________________________________________________________\n",
    "dense_19 (Dense)             (None, 54)                2970      \n",
    "_________________________________________________________________\n",
    "dense_20 (Dense)             (None, 54)                2970      \n",
    "_________________________________________________________________\n",
    "dense_21 (Dense)             (None, 9)                 495       \n",
    "=================================================================\n",
    "Total params: 83,115\n",
    "Trainable params: 83,115\n",
    "Non-trainable params: 0\n",
    "_________________________________________________________________\n",
    "```"
   ]
  },
  {
   "cell_type": "code",
   "execution_count": 18,
   "metadata": {},
   "outputs": [
    {
     "name": "stdout",
     "output_type": "stream",
     "text": [
      "Epoch 1/120\n",
      "10000/10000 [==============================] - 58s 6ms/step - loss: 1.4739 - accuracy: 0.4443 - val_loss: 1.3954 - val_accuracy: 0.4300\n",
      "Epoch 2/120\n",
      "10000/10000 [==============================] - 57s 6ms/step - loss: 1.4165 - accuracy: 0.4517 - val_loss: 1.3000 - val_accuracy: 0.4500\n",
      "Epoch 3/120\n",
      "10000/10000 [==============================] - 56s 6ms/step - loss: 1.3570 - accuracy: 0.4582 - val_loss: 1.2630 - val_accuracy: 0.4500\n",
      "Epoch 4/120\n",
      "10000/10000 [==============================] - 61s 6ms/step - loss: 1.2971 - accuracy: 0.4742 - val_loss: 1.2199 - val_accuracy: 0.5200\n",
      "Epoch 5/120\n",
      "10000/10000 [==============================] - 62s 6ms/step - loss: 1.2323 - accuracy: 0.4979 - val_loss: 1.1269 - val_accuracy: 0.5200\n",
      "Epoch 6/120\n",
      "10000/10000 [==============================] - 56s 6ms/step - loss: 1.1928 - accuracy: 0.5120 - val_loss: 1.1401 - val_accuracy: 0.5500\n",
      "Epoch 7/120\n",
      "10000/10000 [==============================] - 55s 6ms/step - loss: 1.1662 - accuracy: 0.5241 - val_loss: 1.0855 - val_accuracy: 0.5500\n",
      "Epoch 8/120\n",
      "10000/10000 [==============================] - 56s 6ms/step - loss: 1.1442 - accuracy: 0.5344 - val_loss: 1.0737 - val_accuracy: 0.5600\n",
      "Epoch 9/120\n",
      "10000/10000 [==============================] - 57s 6ms/step - loss: 1.1256 - accuracy: 0.5429 - val_loss: 1.1167 - val_accuracy: 0.5600\n",
      "Epoch 10/120\n",
      "10000/10000 [==============================] - 58s 6ms/step - loss: 1.1093 - accuracy: 0.5514 - val_loss: 1.0699 - val_accuracy: 0.6200\n",
      "Epoch 11/120\n",
      "10000/10000 [==============================] - 57s 6ms/step - loss: 1.0945 - accuracy: 0.5584 - val_loss: 1.0419 - val_accuracy: 0.6300\n",
      "Epoch 12/120\n",
      "10000/10000 [==============================] - 58s 6ms/step - loss: 1.0807 - accuracy: 0.5650 - val_loss: 1.0334 - val_accuracy: 0.6300\n",
      "Epoch 13/120\n",
      "10000/10000 [==============================] - 57s 6ms/step - loss: 1.0675 - accuracy: 0.5707 - val_loss: 1.0129 - val_accuracy: 0.6300\n",
      "Epoch 14/120\n",
      "10000/10000 [==============================] - 60s 6ms/step - loss: 1.0548 - accuracy: 0.5757 - val_loss: 0.9732 - val_accuracy: 0.6400\n",
      "Epoch 15/120\n",
      "10000/10000 [==============================] - 56s 6ms/step - loss: 1.0430 - accuracy: 0.5797 - val_loss: 0.9160 - val_accuracy: 0.6700\n",
      "Epoch 16/120\n",
      "10000/10000 [==============================] - 58s 6ms/step - loss: 1.0320 - accuracy: 0.5841 - val_loss: 0.9311 - val_accuracy: 0.6500\n",
      "Epoch 17/120\n",
      "10000/10000 [==============================] - 56s 6ms/step - loss: 1.0180 - accuracy: 0.5904 - val_loss: 0.9179 - val_accuracy: 0.6400\n",
      "Epoch 18/120\n",
      "10000/10000 [==============================] - 58s 6ms/step - loss: 0.9994 - accuracy: 0.6000 - val_loss: 0.9070 - val_accuracy: 0.6600\n",
      "Epoch 19/120\n",
      "10000/10000 [==============================] - 56s 6ms/step - loss: 0.9806 - accuracy: 0.6100 - val_loss: 0.8852 - val_accuracy: 0.6600\n",
      "Epoch 20/120\n",
      "10000/10000 [==============================] - 60s 6ms/step - loss: 0.9595 - accuracy: 0.6226 - val_loss: 0.8395 - val_accuracy: 0.6700\n",
      "Epoch 21/120\n",
      "10000/10000 [==============================] - 57s 6ms/step - loss: 0.9343 - accuracy: 0.6385 - val_loss: 0.7888 - val_accuracy: 0.6800\n",
      "Epoch 22/120\n",
      "10000/10000 [==============================] - 57s 6ms/step - loss: 0.8868 - accuracy: 0.6632 - val_loss: 0.7776 - val_accuracy: 0.7100\n",
      "Epoch 23/120\n",
      "10000/10000 [==============================] - 57s 6ms/step - loss: 0.8432 - accuracy: 0.6848 - val_loss: 0.7507 - val_accuracy: 0.7200\n",
      "Epoch 24/120\n",
      "10000/10000 [==============================] - 58s 6ms/step - loss: 0.8130 - accuracy: 0.7006 - val_loss: 0.6793 - val_accuracy: 0.7500\n",
      "Epoch 25/120\n",
      "10000/10000 [==============================] - 57s 6ms/step - loss: 0.7852 - accuracy: 0.7144 - val_loss: 0.6830 - val_accuracy: 0.7400\n",
      "Epoch 26/120\n",
      "10000/10000 [==============================] - 59s 6ms/step - loss: 0.7606 - accuracy: 0.7254 - val_loss: 0.6414 - val_accuracy: 0.7900\n",
      "Epoch 27/120\n",
      "10000/10000 [==============================] - 59s 6ms/step - loss: 0.7376 - accuracy: 0.7352 - val_loss: 0.5941 - val_accuracy: 0.7800\n",
      "Epoch 28/120\n",
      "10000/10000 [==============================] - 57s 6ms/step - loss: 0.7131 - accuracy: 0.7459 - val_loss: 0.5839 - val_accuracy: 0.8000\n",
      "Epoch 29/120\n",
      "10000/10000 [==============================] - 58s 6ms/step - loss: 0.6649 - accuracy: 0.7670 - val_loss: 0.5357 - val_accuracy: 0.8200\n",
      "Epoch 30/120\n",
      "10000/10000 [==============================] - 57s 6ms/step - loss: 0.5708 - accuracy: 0.8144 - val_loss: 0.4993 - val_accuracy: 0.8400\n",
      "Epoch 31/120\n",
      "10000/10000 [==============================] - 58s 6ms/step - loss: 0.4757 - accuracy: 0.8578 - val_loss: 0.3767 - val_accuracy: 0.8900\n",
      "Epoch 32/120\n",
      "10000/10000 [==============================] - 58s 6ms/step - loss: 0.4059 - accuracy: 0.8863 - val_loss: 0.3300 - val_accuracy: 0.9000\n",
      "Epoch 33/120\n",
      "10000/10000 [==============================] - 59s 6ms/step - loss: 0.3465 - accuracy: 0.9073 - val_loss: 0.3009 - val_accuracy: 0.9000\n",
      "Epoch 34/120\n",
      "10000/10000 [==============================] - 59s 6ms/step - loss: 0.2789 - accuracy: 0.9282 - val_loss: 0.2248 - val_accuracy: 0.9300\n",
      "Epoch 35/120\n",
      "10000/10000 [==============================] - 58s 6ms/step - loss: 0.2430 - accuracy: 0.9395 - val_loss: 0.1864 - val_accuracy: 0.9400\n",
      "Epoch 36/120\n",
      "10000/10000 [==============================] - 60s 6ms/step - loss: 0.2239 - accuracy: 0.9452 - val_loss: 0.1954 - val_accuracy: 0.9200\n",
      "Epoch 37/120\n",
      "10000/10000 [==============================] - 60s 6ms/step - loss: 0.2108 - accuracy: 0.9491 - val_loss: 0.1798 - val_accuracy: 0.9500\n",
      "Epoch 38/120\n",
      "10000/10000 [==============================] - 56s 6ms/step - loss: 0.2011 - accuracy: 0.9519 - val_loss: 0.1795 - val_accuracy: 0.9500\n",
      "Epoch 39/120\n",
      "10000/10000 [==============================] - 56s 6ms/step - loss: 0.1933 - accuracy: 0.9541 - val_loss: 0.1657 - val_accuracy: 0.9500\n",
      "Epoch 40/120\n",
      "10000/10000 [==============================] - 55s 6ms/step - loss: 0.1863 - accuracy: 0.9563 - val_loss: 0.1339 - val_accuracy: 0.9500\n",
      "Epoch 41/120\n",
      "10000/10000 [==============================] - 57s 6ms/step - loss: 0.1809 - accuracy: 0.9578 - val_loss: 0.1324 - val_accuracy: 0.9600\n",
      "Epoch 42/120\n",
      "10000/10000 [==============================] - 56s 6ms/step - loss: 0.1758 - accuracy: 0.9593 - val_loss: 0.1252 - val_accuracy: 0.9700\n",
      "Epoch 43/120\n",
      "10000/10000 [==============================] - 57s 6ms/step - loss: 0.1717 - accuracy: 0.9605 - val_loss: 0.1319 - val_accuracy: 0.9600\n",
      "Epoch 44/120\n",
      "10000/10000 [==============================] - 56s 6ms/step - loss: 0.1681 - accuracy: 0.9615 - val_loss: 0.1216 - val_accuracy: 0.9700\n",
      "Epoch 45/120\n",
      "10000/10000 [==============================] - 56s 6ms/step - loss: 0.1647 - accuracy: 0.9625 - val_loss: 0.1386 - val_accuracy: 0.9600\n",
      "Epoch 46/120\n",
      "10000/10000 [==============================] - 56s 6ms/step - loss: 0.1621 - accuracy: 0.9633 - val_loss: 0.1029 - val_accuracy: 0.9800\n",
      "Epoch 47/120\n",
      "10000/10000 [==============================] - 57s 6ms/step - loss: 0.1598 - accuracy: 0.9639 - val_loss: 0.0993 - val_accuracy: 0.9700\n",
      "Epoch 48/120\n",
      "10000/10000 [==============================] - 55s 6ms/step - loss: 0.1580 - accuracy: 0.9643 - val_loss: 0.1396 - val_accuracy: 0.9700\n",
      "Epoch 49/120\n",
      "10000/10000 [==============================] - 56s 6ms/step - loss: 0.1563 - accuracy: 0.9647 - val_loss: 0.0957 - val_accuracy: 0.9700\n",
      "Epoch 50/120\n",
      "10000/10000 [==============================] - 56s 6ms/step - loss: 0.1549 - accuracy: 0.9651 - val_loss: 0.0795 - val_accuracy: 0.9800\n",
      "Epoch 51/120\n",
      "10000/10000 [==============================] - 56s 6ms/step - loss: 0.1534 - accuracy: 0.9655 - val_loss: 0.1067 - val_accuracy: 0.9800\n",
      "Epoch 52/120\n",
      "10000/10000 [==============================] - 56s 6ms/step - loss: 0.1524 - accuracy: 0.9656 - val_loss: 0.0793 - val_accuracy: 0.9900\n",
      "Epoch 53/120\n",
      "10000/10000 [==============================] - 55s 6ms/step - loss: 0.1511 - accuracy: 0.9660 - val_loss: 0.0707 - val_accuracy: 0.9900\n",
      "Epoch 54/120\n",
      "10000/10000 [==============================] - 67s 7ms/step - loss: 0.1501 - accuracy: 0.9664 - val_loss: 0.1385 - val_accuracy: 0.9700\n",
      "Epoch 55/120\n",
      "10000/10000 [==============================] - 62s 6ms/step - loss: 0.1493 - accuracy: 0.9664 - val_loss: 0.0746 - val_accuracy: 0.9800\n",
      "Epoch 56/120\n"
     ]
    },
    {
     "name": "stdout",
     "output_type": "stream",
     "text": [
      "10000/10000 [==============================] - 58s 6ms/step - loss: 0.1485 - accuracy: 0.9666 - val_loss: 0.1127 - val_accuracy: 0.9800\n",
      "Epoch 57/120\n",
      "10000/10000 [==============================] - 58s 6ms/step - loss: 0.1475 - accuracy: 0.9668 - val_loss: 0.1081 - val_accuracy: 0.9800\n",
      "Epoch 58/120\n",
      "10000/10000 [==============================] - 67s 7ms/step - loss: 0.1471 - accuracy: 0.9669 - val_loss: 0.0698 - val_accuracy: 0.9900\n",
      "Epoch 59/120\n",
      "10000/10000 [==============================] - 68s 7ms/step - loss: 0.1463 - accuracy: 0.9670 - val_loss: 0.0681 - val_accuracy: 0.9900\n",
      "Epoch 60/120\n",
      "10000/10000 [==============================] - 61s 6ms/step - loss: 0.1455 - accuracy: 0.9673 - val_loss: 0.0821 - val_accuracy: 0.9800\n",
      "Epoch 61/120\n",
      "10000/10000 [==============================] - 63s 6ms/step - loss: 0.1450 - accuracy: 0.9673 - val_loss: 0.0926 - val_accuracy: 0.9800\n",
      "Epoch 62/120\n",
      "10000/10000 [==============================] - 66s 7ms/step - loss: 0.1444 - accuracy: 0.9674 - val_loss: 0.0780 - val_accuracy: 0.9800\n",
      "Epoch 63/120\n",
      "10000/10000 [==============================] - 68s 7ms/step - loss: 0.1438 - accuracy: 0.9675 - val_loss: 0.0985 - val_accuracy: 0.9800\n",
      "Epoch 64/120\n",
      "10000/10000 [==============================] - 65s 6ms/step - loss: 0.1434 - accuracy: 0.9676 - val_loss: 0.0979 - val_accuracy: 0.9800\n",
      "Epoch 65/120\n",
      "10000/10000 [==============================] - 62s 6ms/step - loss: 0.1430 - accuracy: 0.9677 - val_loss: 0.0833 - val_accuracy: 0.9800\n",
      "Epoch 66/120\n",
      "10000/10000 [==============================] - 58s 6ms/step - loss: 0.1425 - accuracy: 0.9677 - val_loss: 0.0779 - val_accuracy: 0.9800\n",
      "Epoch 67/120\n",
      "10000/10000 [==============================] - 59s 6ms/step - loss: 0.1421 - accuracy: 0.9677 - val_loss: 0.0974 - val_accuracy: 0.9800\n",
      "Epoch 68/120\n",
      "10000/10000 [==============================] - 62s 6ms/step - loss: 0.1415 - accuracy: 0.9677 - val_loss: 0.0761 - val_accuracy: 0.9800\n",
      "Epoch 69/120\n",
      "10000/10000 [==============================] - 62s 6ms/step - loss: 0.1409 - accuracy: 0.9677 - val_loss: 0.0987 - val_accuracy: 0.9800\n",
      "Epoch 70/120\n",
      "10000/10000 [==============================] - 60s 6ms/step - loss: 0.1398 - accuracy: 0.9676 - val_loss: 0.1040 - val_accuracy: 0.9800\n",
      "Epoch 71/120\n",
      "10000/10000 [==============================] - 60s 6ms/step - loss: 0.1383 - accuracy: 0.9675 - val_loss: 0.0537 - val_accuracy: 0.9900\n",
      "Epoch 72/120\n",
      "10000/10000 [==============================] - 59s 6ms/step - loss: 0.1363 - accuracy: 0.9676 - val_loss: 0.0605 - val_accuracy: 0.9800\n",
      "Epoch 73/120\n",
      "10000/10000 [==============================] - 60s 6ms/step - loss: 0.1339 - accuracy: 0.9676 - val_loss: 0.0541 - val_accuracy: 0.9800\n",
      "Epoch 74/120\n",
      "10000/10000 [==============================] - 62s 6ms/step - loss: 0.1314 - accuracy: 0.9677 - val_loss: 0.0510 - val_accuracy: 0.9800\n",
      "Epoch 75/120\n",
      "10000/10000 [==============================] - 59s 6ms/step - loss: 0.1283 - accuracy: 0.9678 - val_loss: 0.0796 - val_accuracy: 0.9800\n",
      "Epoch 76/120\n",
      "10000/10000 [==============================] - 59s 6ms/step - loss: 0.1250 - accuracy: 0.9681 - val_loss: 0.0606 - val_accuracy: 0.9800\n",
      "Epoch 77/120\n",
      "10000/10000 [==============================] - 58s 6ms/step - loss: 0.1218 - accuracy: 0.9684 - val_loss: 0.0573 - val_accuracy: 0.9900\n",
      "Epoch 78/120\n",
      "10000/10000 [==============================] - 60s 6ms/step - loss: 0.1187 - accuracy: 0.9687 - val_loss: 0.0426 - val_accuracy: 1.0000\n",
      "Epoch 79/120\n",
      "10000/10000 [==============================] - 59s 6ms/step - loss: 0.1157 - accuracy: 0.9692 - val_loss: 0.0505 - val_accuracy: 0.9800\n",
      "Epoch 80/120\n",
      "10000/10000 [==============================] - 59s 6ms/step - loss: 0.1129 - accuracy: 0.9697 - val_loss: 0.0351 - val_accuracy: 1.0000\n",
      "Epoch 81/120\n",
      "10000/10000 [==============================] - 63s 6ms/step - loss: 0.1101 - accuracy: 0.9702 - val_loss: 0.0308 - val_accuracy: 1.0000\n",
      "Epoch 82/120\n",
      "10000/10000 [==============================] - 59s 6ms/step - loss: 0.1073 - accuracy: 0.9708 - val_loss: 0.0435 - val_accuracy: 0.9900\n",
      "Epoch 83/120\n",
      "10000/10000 [==============================] - 59s 6ms/step - loss: 0.1045 - accuracy: 0.9714 - val_loss: 0.0322 - val_accuracy: 0.9900\n",
      "Epoch 84/120\n",
      "10000/10000 [==============================] - 59s 6ms/step - loss: 0.1020 - accuracy: 0.9718 - val_loss: 0.0347 - val_accuracy: 1.0000\n",
      "Epoch 85/120\n",
      "10000/10000 [==============================] - 60s 6ms/step - loss: 0.0995 - accuracy: 0.9725 - val_loss: 0.0391 - val_accuracy: 0.9900\n",
      "Epoch 86/120\n",
      "10000/10000 [==============================] - 57s 6ms/step - loss: 0.0972 - accuracy: 0.9730 - val_loss: 0.0672 - val_accuracy: 0.9900\n",
      "Epoch 87/120\n",
      "10000/10000 [==============================] - 61s 6ms/step - loss: 0.0947 - accuracy: 0.9735 - val_loss: 0.0439 - val_accuracy: 0.9900\n",
      "Epoch 88/120\n",
      "10000/10000 [==============================] - 59s 6ms/step - loss: 0.0922 - accuracy: 0.9743 - val_loss: 0.0537 - val_accuracy: 0.9900\n",
      "Epoch 89/120\n",
      "10000/10000 [==============================] - 61s 6ms/step - loss: 0.0895 - accuracy: 0.9750 - val_loss: 0.0483 - val_accuracy: 0.9900\n",
      "Epoch 90/120\n",
      "10000/10000 [==============================] - 60s 6ms/step - loss: 0.0870 - accuracy: 0.9757 - val_loss: 0.0537 - val_accuracy: 0.9900\n",
      "Epoch 91/120\n",
      "10000/10000 [==============================] - 62s 6ms/step - loss: 0.0847 - accuracy: 0.9763 - val_loss: 0.0292 - val_accuracy: 1.0000\n",
      "Epoch 92/120\n",
      "10000/10000 [==============================] - 60s 6ms/step - loss: 0.0830 - accuracy: 0.9768 - val_loss: 0.0350 - val_accuracy: 0.9900\n",
      "Epoch 93/120\n",
      "10000/10000 [==============================] - 62s 6ms/step - loss: 0.0815 - accuracy: 0.9773 - val_loss: 0.0385 - val_accuracy: 0.9900\n",
      "Epoch 94/120\n",
      "10000/10000 [==============================] - 61s 6ms/step - loss: 0.0800 - accuracy: 0.9776 - val_loss: 0.0330 - val_accuracy: 0.9900\n",
      "Epoch 95/120\n",
      "10000/10000 [==============================] - 60s 6ms/step - loss: 0.0787 - accuracy: 0.9781 - val_loss: 0.0312 - val_accuracy: 1.0000\n",
      "Epoch 96/120\n",
      "10000/10000 [==============================] - 60s 6ms/step - loss: 0.0778 - accuracy: 0.9783 - val_loss: 0.0281 - val_accuracy: 1.0000\n",
      "Epoch 97/120\n",
      "10000/10000 [==============================] - 62s 6ms/step - loss: 0.0763 - accuracy: 0.9786 - val_loss: 0.0214 - val_accuracy: 1.0000\n",
      "Epoch 98/120\n",
      "10000/10000 [==============================] - 62s 6ms/step - loss: 0.0752 - accuracy: 0.9789 - val_loss: 0.0318 - val_accuracy: 0.9900\n",
      "Epoch 99/120\n",
      "10000/10000 [==============================] - 64s 6ms/step - loss: 0.0743 - accuracy: 0.9790 - val_loss: 0.0284 - val_accuracy: 0.9900\n",
      "Epoch 100/120\n",
      "10000/10000 [==============================] - 64s 6ms/step - loss: 0.0734 - accuracy: 0.9794 - val_loss: 0.0178 - val_accuracy: 1.0000\n",
      "Epoch 101/120\n",
      "10000/10000 [==============================] - 62s 6ms/step - loss: 0.0724 - accuracy: 0.9795 - val_loss: 0.0160 - val_accuracy: 1.0000\n",
      "Epoch 102/120\n",
      "10000/10000 [==============================] - 61s 6ms/step - loss: 0.0713 - accuracy: 0.9799 - val_loss: 0.0201 - val_accuracy: 1.0000\n",
      "Epoch 103/120\n",
      "10000/10000 [==============================] - 62s 6ms/step - loss: 0.0708 - accuracy: 0.9800 - val_loss: 0.0223 - val_accuracy: 1.0000\n",
      "Epoch 104/120\n",
      "10000/10000 [==============================] - 61s 6ms/step - loss: 0.0698 - accuracy: 0.9801 - val_loss: 0.0221 - val_accuracy: 1.0000\n",
      "Epoch 105/120\n",
      "10000/10000 [==============================] - 60s 6ms/step - loss: 0.0693 - accuracy: 0.9803 - val_loss: 0.0190 - val_accuracy: 1.0000\n",
      "Epoch 106/120\n",
      "10000/10000 [==============================] - 61s 6ms/step - loss: 0.0685 - accuracy: 0.9804 - val_loss: 0.0128 - val_accuracy: 1.0000\n",
      "Epoch 107/120\n",
      "10000/10000 [==============================] - 62s 6ms/step - loss: 0.0676 - accuracy: 0.9806 - val_loss: 0.0172 - val_accuracy: 1.0000\n",
      "Epoch 108/120\n",
      "10000/10000 [==============================] - 60s 6ms/step - loss: 0.0642 - accuracy: 0.9809 - val_loss: 0.0168 - val_accuracy: 1.0000\n",
      "Epoch 109/120\n",
      "10000/10000 [==============================] - 62s 6ms/step - loss: 0.0493 - accuracy: 0.9846 - val_loss: 0.0126 - val_accuracy: 1.0000\n",
      "Epoch 110/120\n",
      "10000/10000 [==============================] - 62s 6ms/step - loss: 0.0357 - accuracy: 0.9888 - val_loss: 0.0114 - val_accuracy: 1.0000\n"
     ]
    },
    {
     "name": "stdout",
     "output_type": "stream",
     "text": [
      "Epoch 111/120\n",
      "10000/10000 [==============================] - 60s 6ms/step - loss: 0.0282 - accuracy: 0.9912 - val_loss: 0.0088 - val_accuracy: 1.0000\n",
      "Epoch 112/120\n",
      "10000/10000 [==============================] - 58s 6ms/step - loss: 0.0250 - accuracy: 0.9923 - val_loss: 0.0102 - val_accuracy: 1.0000\n",
      "Epoch 113/120\n",
      "10000/10000 [==============================] - 59s 6ms/step - loss: 0.0224 - accuracy: 0.9932 - val_loss: 0.0041 - val_accuracy: 1.0000\n",
      "Epoch 114/120\n",
      "10000/10000 [==============================] - 59s 6ms/step - loss: 0.0206 - accuracy: 0.9937 - val_loss: 0.0061 - val_accuracy: 1.0000\n",
      "Epoch 115/120\n",
      "10000/10000 [==============================] - 61s 6ms/step - loss: 0.0193 - accuracy: 0.9941 - val_loss: 0.0098 - val_accuracy: 1.0000\n",
      "Epoch 116/120\n",
      "10000/10000 [==============================] - 60s 6ms/step - loss: 0.0179 - accuracy: 0.9946 - val_loss: 0.0024 - val_accuracy: 1.0000\n",
      "Epoch 117/120\n",
      "10000/10000 [==============================] - 61s 6ms/step - loss: 0.0170 - accuracy: 0.9948 - val_loss: 0.0031 - val_accuracy: 1.0000\n",
      "Epoch 118/120\n",
      "10000/10000 [==============================] - 60s 6ms/step - loss: 0.0160 - accuracy: 0.9952 - val_loss: 0.0019 - val_accuracy: 1.0000\n",
      "Epoch 119/120\n",
      "10000/10000 [==============================] - 60s 6ms/step - loss: 0.0156 - accuracy: 0.9953 - val_loss: 0.0167 - val_accuracy: 0.9900\n",
      "Epoch 120/120\n",
      "10000/10000 [==============================] - 59s 6ms/step - loss: 0.0147 - accuracy: 0.9956 - val_loss: 0.0181 - val_accuracy: 0.9900\n"
     ]
    }
   ],
   "source": [
    "history = model.fit(train_dataset, epochs=120,\n",
    "                    validation_data=test_dataset, \n",
    "                    validation_steps=1)"
   ]
  },
  {
   "cell_type": "code",
   "execution_count": 19,
   "metadata": {},
   "outputs": [
    {
     "name": "stdout",
     "output_type": "stream",
     "text": [
      "100/100 [==============================] - 0s 3ms/step - loss: 0.0194 - accuracy: 0.9952\n",
      "Test Loss: 0.01943156123161316\n",
      "Test Accuracy: 0.995199978351593\n"
     ]
    }
   ],
   "source": [
    "test_loss, test_acc = model.evaluate(test_dataset)\n",
    "\n",
    "print('Test Loss: {}'.format(test_loss))\n",
    "print('Test Accuracy: {}'.format(test_acc))"
   ]
  },
  {
   "cell_type": "code",
   "execution_count": 20,
   "metadata": {},
   "outputs": [
    {
     "data": {
      "image/png": "[encoded data removed]",
      "text/plain": [
       "<Figure size 1152x432 with 2 Axes>"
      ]
     },
     "metadata": {
      "needs_background": "light"
     },
     "output_type": "display_data"
    }
   ],
   "source": [
    "import matplotlib.pyplot as plt\n",
    "\n",
    "def plot_graphs(history, metric):\n",
    "  plt.plot(history.history[metric])\n",
    "  plt.plot(history.history['val_'+metric], '')\n",
    "  plt.xlabel(\"Epochs\")\n",
    "  plt.ylabel(metric)\n",
    "  plt.legend([metric, 'val_'+metric])\n",
    "\n",
    "plt.figure(figsize=(16,6))\n",
    "plt.subplot(1,2,1)\n",
    "plot_graphs(history, 'accuracy')\n",
    "plt.subplot(1,2,2)\n",
    "plot_graphs(history, 'loss')"
   ]
  },
  {
   "cell_type": "markdown",
   "metadata": {},
   "source": [
    "### Test the model with a new test set (1 million instances)"
   ]
  },
  {
   "cell_type": "code",
   "execution_count": 32,
   "metadata": {},
   "outputs": [],
   "source": [
    "large_test_set = []\n",
    "for i in range(1000000):\n",
    "    New_deck = utils.init_standard_deck()\n",
    "    chosen_cards, remained_cards = utils.get_random_cards(New_deck, 7)\n",
    "    large_test_set.append(utils.Card_Rank(chosen_cards))\n",
    "    \n",
    "card_str_list = []\n",
    "catgory_list = []\n",
    "\n",
    "for row in large_test_set:\n",
    "    card_str_list.append(row[4])\n",
    "    catgory_list.append(row[0])\n",
    "\n",
    "depth = 9\n",
    "catgory_list = tf.one_hot(catgory_list, depth)\n",
    "\n",
    "string_of_cards = []\n",
    "for row in card_str_list:\n",
    "    string_of_cards.append(row[0] + ' ' + row[1] + ' ' +row[2] + ' ' +row[3] + ' ' +row[4] + ' ' +row[5] + ' ' +row[6])\n",
    "    \n",
    "large_dataset_test = tf.data.Dataset.from_tensor_slices((string_of_cards, catgory_list))"
   ]
  },
  {
   "cell_type": "code",
   "execution_count": 33,
   "metadata": {},
   "outputs": [],
   "source": [
    "large_dataset_test = large_dataset_test.shuffle(1).batch(1).prefetch(tf.data.experimental.AUTOTUNE)"
   ]
  },
  {
   "cell_type": "code",
   "execution_count": 34,
   "metadata": {},
   "outputs": [
    {
     "name": "stdout",
     "output_type": "stream",
     "text": [
      "1000000/1000000 [==============================] - 852s 852us/step - loss: 0.0158 - accuracy: 0.9956\n",
      "Test Loss: 0.0157890897244215\n",
      "Test Accuracy: 0.9955710172653198\n"
     ]
    }
   ],
   "source": [
    "test_loss, test_acc = model.evaluate(large_dataset_test)\n",
    "\n",
    "print('Test Loss: {}'.format(test_loss))\n",
    "print('Test Accuracy: {}'.format(test_acc))"
   ]
  }
 ],
 "metadata": {
  "kernelspec": {
   "display_name": "Python 3",
   "language": "python",
   "name": "python3"
  },
  "language_info": {
   "codemirror_mode": {
    "name": "ipython",
    "version": 3
   },
   "file_extension": ".py",
   "mimetype": "text/x-python",
   "name": "python",
   "nbconvert_exporter": "python",
   "pygments_lexer": "ipython3",
   "version": "3.8.6"
  }
 },
 "nbformat": 4,
 "nbformat_minor": 4
}
