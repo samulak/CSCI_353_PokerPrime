{
 "cells": [
  {
   "cell_type": "markdown",
   "metadata": {},
   "source": [
    "# Data Preprocessing:\n",
    "\n",
    "PokerPrime agent will interface with the RL Card library and therefore card information must follow RL Cards design.\n",
    "\n",
    "Class Card and init_standard_deck, get_random_cards, print_card, and elegent_form functions are used to deal hands in the game (from RL Card).\n",
    "\n",
    "In order to train the network 10000 training hands (seven cards per hand) and 1000 test hands must be prepared. \n",
    "\n",
    "Goals:\n",
    "- Brute force card ranking function\n"
   ]
  },
  {
   "cell_type": "code",
   "execution_count": 2,
   "metadata": {},
   "outputs": [],
   "source": [
    "class Card(object):\n",
    "    '''\n",
    "    Card stores the suit and rank of a single card\n",
    "    Note:\n",
    "        The suit variable in a standard card game should be one of [S, H, D, C, BJ, RJ] meaning [Spades, Hearts, Diamonds, Clubs, Black Joker, Red Joker]\n",
    "        Similarly the rank variable should be one of [A, 2, 3, 4, 5, 6, 7, 8, 9, T, J, Q, K]\n",
    "    '''\n",
    "\n",
    "    suit = None\n",
    "    rank = None\n",
    "    valid_suit = ['S', 'H', 'D', 'C', 'BJ', 'RJ']\n",
    "    valid_rank = ['A', '2', '3', '4', '5', '6', '7', '8', '9', 'T', 'J', 'Q', 'K']\n",
    "\n",
    "    def __init__(self, suit, rank):\n",
    "        ''' Initialize the suit and rank of a card\n",
    "        Args:\n",
    "            suit: string, suit of the card, should be one of valid_suit\n",
    "            rank: string, rank of the card, should be one of valid_rank\n",
    "        '''\n",
    "        self.suit = suit\n",
    "        self.rank = rank\n",
    "\n",
    "    def __eq__(self, other):\n",
    "        if isinstance(other, Card):\n",
    "            return self.rank == other.rank and self.suit == other.suit\n",
    "        else:\n",
    "            # don't attempt to compare against unrelated types\n",
    "            return NotImplemented\n",
    "\n",
    "    def __hash__(self):\n",
    "        suit_index = Card.valid_suit.index(self.suit)\n",
    "        rank_index = Card.valid_rank.index(self.rank)\n",
    "        return rank_index + 100 * suit_index\n",
    "\n",
    "    def __str__(self):\n",
    "        ''' Get string representation of a card.\n",
    "        Returns:\n",
    "            string: the combination of rank and suit of a card. Eg: AS, 5H, JD, 3C, ...\n",
    "        '''\n",
    "        return self.rank + self.suit\n",
    "\n",
    "    def get_index(self):\n",
    "        ''' Get index of a card.\n",
    "        Returns:\n",
    "            string: the combination of suit and rank of a card. Eg: 1S, 2H, AD, BJ, RJ...\n",
    "        '''\n",
    "        return self.suit+self.rank"
   ]
  },
  {
   "cell_type": "code",
   "execution_count": 3,
   "metadata": {},
   "outputs": [],
   "source": [
    "def init_standard_deck():\n",
    "    ''' Initialize a standard deck of 52 cards\n",
    "    Returns:\n",
    "        (list): A list of Card object\n",
    "    '''\n",
    "    suit_list = ['S', 'H', 'D', 'C']\n",
    "    rank_list = ['A', '2', '3', '4', '5', '6', '7', '8', '9', 'T', 'J', 'Q', 'K']\n",
    "    res = [Card(suit, rank) for suit in suit_list for rank in rank_list]\n",
    "    return res"
   ]
  },
  {
   "cell_type": "code",
   "execution_count": 4,
   "metadata": {},
   "outputs": [],
   "source": [
    "def get_random_cards(cards, num, np_random=None):\n",
    "    ''' Randomly get a number of chosen cards out of a list of cards\n",
    "    Args:\n",
    "        cards (list): List of Card object\n",
    "        num (int): The  number of cards to be chosen\n",
    "    Returns:\n",
    "        (list): A list of chosen cards\n",
    "        (list): A list of remained cards\n",
    "    '''\n",
    "    if not np_random:\n",
    "        np_random = np.random.RandomState()\n",
    "    if not num> 0:\n",
    "        raise AssertionError('Invalid input number')\n",
    "    if not num <= len(cards):\n",
    "        raise AssertionError('Input number larger than length of cards')\n",
    "    remained_cards = []\n",
    "    chosen_cards = []\n",
    "    remained_cards = cards.copy()\n",
    "    np_random.shuffle(remained_cards)\n",
    "    chosen_cards = remained_cards[:num]\n",
    "    remained_cards = remained_cards[num:]\n",
    "    return chosen_cards, remained_cards"
   ]
  },
  {
   "cell_type": "code",
   "execution_count": 5,
   "metadata": {},
   "outputs": [],
   "source": [
    "def print_card(cards):\n",
    "    ''' Nicely print a card or list of cards\n",
    "    Args:\n",
    "        card (string or list): The card(s) to be printed\n",
    "    '''\n",
    "    if cards is None:\n",
    "        cards = [None]\n",
    "    if isinstance(cards, str):\n",
    "        cards = [cards]\n",
    "\n",
    "    lines = [[] for _ in range(9)]\n",
    "\n",
    "    for card in cards:\n",
    "        if card is None:\n",
    "            lines[0].append('┌─────────┐')\n",
    "            lines[1].append('│░░░░░░░░░│')\n",
    "            lines[2].append('│░░░░░░░░░│')\n",
    "            lines[3].append('│░░░░░░░░░│')\n",
    "            lines[4].append('│░░░░░░░░░│')\n",
    "            lines[5].append('│░░░░░░░░░│')\n",
    "            lines[6].append('│░░░░░░░░░│')\n",
    "            lines[7].append('│░░░░░░░░░│')\n",
    "            lines[8].append('└─────────┘')\n",
    "        else:\n",
    "            elegent_card = elegent_form(card)\n",
    "            suit = elegent_card[0]\n",
    "            rank = elegent_card[1]\n",
    "            if len(elegent_card) == 3:\n",
    "                space = elegent_card[2]\n",
    "            else:\n",
    "                space = ' '\n",
    "\n",
    "            lines[0].append('┌─────────┐')\n",
    "            lines[1].append('│{}{}       │'.format(rank, space))\n",
    "            lines[2].append('│         │')\n",
    "            lines[3].append('│         │')\n",
    "            lines[4].append('│    {}    │'.format(suit))\n",
    "            lines[5].append('│         │')\n",
    "            lines[6].append('│         │')\n",
    "            lines[7].append('│       {}{}│'.format(space, rank))\n",
    "            lines[8].append('└─────────┘')\n",
    "\n",
    "    for line in lines:\n",
    "        print ('   '.join(line))"
   ]
  },
  {
   "cell_type": "code",
   "execution_count": 6,
   "metadata": {},
   "outputs": [],
   "source": [
    "def elegent_form(card):\n",
    "    ''' Get a elegent form of a card string\n",
    "    Args:\n",
    "        card (string): A card string\n",
    "    Returns:\n",
    "        elegent_card (string): A nice form of card\n",
    "    '''\n",
    "    suits = {'S': '♠', 'H': '♥', 'D': '♦', 'C': '♣','s': '♠', 'h': '♥', 'd': '♦', 'c': '♣' }\n",
    "    rank = '10' if card[1] == 'T' else card[1]\n",
    "\n",
    "    return suits[card[0]] + rank"
   ]
  },
  {
   "cell_type": "code",
   "execution_count": 31,
   "metadata": {},
   "outputs": [],
   "source": [
    "import numpy as np\n",
    "New_deck = init_standard_deck()\n",
    "\n",
    "chosen_cards, remained_cards = get_random_cards(New_deck, 5)"
   ]
  },
  {
   "cell_type": "code",
   "execution_count": 32,
   "metadata": {},
   "outputs": [
    {
     "name": "stdout",
     "output_type": "stream",
     "text": [
      "┌─────────┐\n",
      "│A        │\n",
      "│         │\n",
      "│         │\n",
      "│    ♦    │\n",
      "│         │\n",
      "│         │\n",
      "│        A│\n",
      "└─────────┘\n"
     ]
    }
   ],
   "source": [
    "print_card(chosen_cards[0].get_index())"
   ]
  },
  {
   "cell_type": "code",
   "execution_count": null,
   "metadata": {},
   "outputs": [],
   "source": [
    "def Card_Rank(card_hand):\n",
    "    \n",
    "    \n",
    "    return top_hand"
   ]
  }
 ],
 "metadata": {
  "kernelspec": {
   "display_name": "Python 3",
   "language": "python",
   "name": "python3"
  },
  "language_info": {
   "codemirror_mode": {
    "name": "ipython",
    "version": 3
   },
   "file_extension": ".py",
   "mimetype": "text/x-python",
   "name": "python",
   "nbconvert_exporter": "python",
   "pygments_lexer": "ipython3",
   "version": "3.8.6"
  }
 },
 "nbformat": 4,
 "nbformat_minor": 4
}
